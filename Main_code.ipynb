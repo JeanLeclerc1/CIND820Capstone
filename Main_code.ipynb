{
  "nbformat": 4,
  "nbformat_minor": 0,
  "metadata": {
    "colab": {
      "name": "Main code.ipynb",
      "provenance": [],
      "collapsed_sections": [],
      "authorship_tag": "ABX9TyMNerwsv0PpY4Kz4hEDGNZB",
      "include_colab_link": true
    },
    "kernelspec": {
      "name": "python3",
      "display_name": "Python 3"
    },
    "language_info": {
      "name": "python"
    }
  },
  "cells": [
    {
      "cell_type": "markdown",
      "metadata": {
        "id": "view-in-github",
        "colab_type": "text"
      },
      "source": [
        "<a href=\"https://colab.research.google.com/github/JeanLeclerc1/CIND820Capstone/blob/main/Main_code.ipynb\" target=\"_parent\"><img src=\"https://colab.research.google.com/assets/colab-badge.svg\" alt=\"Open In Colab\"/></a>"
      ]
    },
    {
      "cell_type": "code",
      "execution_count": null,
      "metadata": {
        "id": "hwly4y23mNP0"
      },
      "outputs": [],
      "source": [
        "#Link to dataset: https://www.kaggle.com/bobbyscience/league-of-legends-diamond-ranked-games-10-min\n",
        "import pandas as pd\n",
        "import numpy as np\n",
        "import matplotlib.pyplot as plt\n",
        "import seaborn as sns"
      ]
    },
    {
      "cell_type": "code",
      "source": [
        "from google.colab import files\n",
        "uploaded = files.upload()"
      ],
      "metadata": {
        "colab": {
          "resources": {
            "http://localhost:8080/nbextensions/google.colab/files.js": {
              "data": "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",
              "ok": true,
              "headers": [
                [
                  "content-type",
                  "application/javascript"
                ]
              ],
              "status": 200,
              "status_text": ""
            }
          },
          "base_uri": "https://localhost:8080/",
          "height": 74
        },
        "id": "IJRvVPbqmPgt",
        "outputId": "b75c83ab-359c-4996-9390-402fa0051f6d"
      },
      "execution_count": null,
      "outputs": [
        {
          "output_type": "display_data",
          "data": {
            "text/plain": [
              "<IPython.core.display.HTML object>"
            ],
            "text/html": [
              "\n",
              "     <input type=\"file\" id=\"files-d9309468-54d7-4266-bd49-913eea6928f1\" name=\"files[]\" multiple disabled\n",
              "        style=\"border:none\" />\n",
              "     <output id=\"result-d9309468-54d7-4266-bd49-913eea6928f1\">\n",
              "      Upload widget is only available when the cell has been executed in the\n",
              "      current browser session. Please rerun this cell to enable.\n",
              "      </output>\n",
              "      <script src=\"/nbextensions/google.colab/files.js\"></script> "
            ]
          },
          "metadata": {}
        },
        {
          "output_type": "stream",
          "name": "stdout",
          "text": [
            "Saving high_diamond_ranked_10min.csv to high_diamond_ranked_10min.csv\n"
          ]
        }
      ]
    },
    {
      "cell_type": "code",
      "source": [
        "import pandas as pd\n",
        "import io\n",
        "df_main = pd.read_csv(io.BytesIO(uploaded['high_diamond_ranked_10min.csv']))\n",
        "df = pd.read_csv(io.BytesIO(uploaded['high_diamond_ranked_10min.csv']))\n",
        "\n",
        "# Dataset is now stored in a Pandas Dataframe"
      ],
      "metadata": {
        "id": "ScZvSD7GmcmU"
      },
      "execution_count": null,
      "outputs": []
    },
    {
      "cell_type": "code",
      "source": [
        "df.info()"
      ],
      "metadata": {
        "colab": {
          "base_uri": "https://localhost:8080/"
        },
        "id": "8fpxakqQmU-P",
        "outputId": "4dfc060b-c12f-4f98-ee70-a74e34088f45"
      },
      "execution_count": null,
      "outputs": [
        {
          "output_type": "stream",
          "name": "stdout",
          "text": [
            "<class 'pandas.core.frame.DataFrame'>\n",
            "RangeIndex: 9879 entries, 0 to 9878\n",
            "Data columns (total 40 columns):\n",
            " #   Column                        Non-Null Count  Dtype  \n",
            "---  ------                        --------------  -----  \n",
            " 0   gameId                        9879 non-null   int64  \n",
            " 1   blueWins                      9879 non-null   int64  \n",
            " 2   blueWardsPlaced               9879 non-null   int64  \n",
            " 3   blueWardsDestroyed            9879 non-null   int64  \n",
            " 4   blueFirstBlood                9879 non-null   int64  \n",
            " 5   blueKills                     9879 non-null   int64  \n",
            " 6   blueDeaths                    9879 non-null   int64  \n",
            " 7   blueAssists                   9879 non-null   int64  \n",
            " 8   blueEliteMonsters             9879 non-null   int64  \n",
            " 9   blueDragons                   9879 non-null   int64  \n",
            " 10  blueHeralds                   9879 non-null   int64  \n",
            " 11  blueTowersDestroyed           9879 non-null   int64  \n",
            " 12  blueTotalGold                 9879 non-null   int64  \n",
            " 13  blueAvgLevel                  9879 non-null   float64\n",
            " 14  blueTotalExperience           9879 non-null   int64  \n",
            " 15  blueTotalMinionsKilled        9879 non-null   int64  \n",
            " 16  blueTotalJungleMinionsKilled  9879 non-null   int64  \n",
            " 17  blueGoldDiff                  9879 non-null   int64  \n",
            " 18  blueExperienceDiff            9879 non-null   int64  \n",
            " 19  blueCSPerMin                  9879 non-null   float64\n",
            " 20  blueGoldPerMin                9879 non-null   float64\n",
            " 21  redWardsPlaced                9879 non-null   int64  \n",
            " 22  redWardsDestroyed             9879 non-null   int64  \n",
            " 23  redFirstBlood                 9879 non-null   int64  \n",
            " 24  redKills                      9879 non-null   int64  \n",
            " 25  redDeaths                     9879 non-null   int64  \n",
            " 26  redAssists                    9879 non-null   int64  \n",
            " 27  redEliteMonsters              9879 non-null   int64  \n",
            " 28  redDragons                    9879 non-null   int64  \n",
            " 29  redHeralds                    9879 non-null   int64  \n",
            " 30  redTowersDestroyed            9879 non-null   int64  \n",
            " 31  redTotalGold                  9879 non-null   int64  \n",
            " 32  redAvgLevel                   9879 non-null   float64\n",
            " 33  redTotalExperience            9879 non-null   int64  \n",
            " 34  redTotalMinionsKilled         9879 non-null   int64  \n",
            " 35  redTotalJungleMinionsKilled   9879 non-null   int64  \n",
            " 36  redGoldDiff                   9879 non-null   int64  \n",
            " 37  redExperienceDiff             9879 non-null   int64  \n",
            " 38  redCSPerMin                   9879 non-null   float64\n",
            " 39  redGoldPerMin                 9879 non-null   float64\n",
            "dtypes: float64(6), int64(34)\n",
            "memory usage: 3.0 MB\n"
          ]
        }
      ]
    },
    {
      "cell_type": "code",
      "source": [
        "import pandas as pd\n",
        "pd.set_option('display.max_columns', None)\n",
        "df.describe()"
      ],
      "metadata": {
        "colab": {
          "base_uri": "https://localhost:8080/",
          "height": 364
        },
        "id": "-scq0R7HmVAn",
        "outputId": "dcaf39bd-d728-4a6a-fa0e-11dca8f411c1"
      },
      "execution_count": null,
      "outputs": [
        {
          "output_type": "execute_result",
          "data": {
            "text/plain": [
              "             gameId     blueWins  blueWardsPlaced  blueWardsDestroyed  \\\n",
              "count  9.879000e+03  9879.000000      9879.000000         9879.000000   \n",
              "mean   4.500084e+09     0.499038        22.288288            2.824881   \n",
              "std    2.757328e+07     0.500024        18.019177            2.174998   \n",
              "min    4.295358e+09     0.000000         5.000000            0.000000   \n",
              "25%    4.483301e+09     0.000000        14.000000            1.000000   \n",
              "50%    4.510920e+09     0.000000        16.000000            3.000000   \n",
              "75%    4.521733e+09     1.000000        20.000000            4.000000   \n",
              "max    4.527991e+09     1.000000       250.000000           27.000000   \n",
              "\n",
              "       blueFirstBlood    blueKills   blueDeaths  blueAssists  \\\n",
              "count     9879.000000  9879.000000  9879.000000  9879.000000   \n",
              "mean         0.504808     6.183925     6.137666     6.645106   \n",
              "std          0.500002     3.011028     2.933818     4.064520   \n",
              "min          0.000000     0.000000     0.000000     0.000000   \n",
              "25%          0.000000     4.000000     4.000000     4.000000   \n",
              "50%          1.000000     6.000000     6.000000     6.000000   \n",
              "75%          1.000000     8.000000     8.000000     9.000000   \n",
              "max          1.000000    22.000000    22.000000    29.000000   \n",
              "\n",
              "       blueEliteMonsters  blueDragons  blueHeralds  blueTowersDestroyed  \\\n",
              "count        9879.000000  9879.000000  9879.000000          9879.000000   \n",
              "mean            0.549954     0.361980     0.187974             0.051422   \n",
              "std             0.625527     0.480597     0.390712             0.244369   \n",
              "min             0.000000     0.000000     0.000000             0.000000   \n",
              "25%             0.000000     0.000000     0.000000             0.000000   \n",
              "50%             0.000000     0.000000     0.000000             0.000000   \n",
              "75%             1.000000     1.000000     0.000000             0.000000   \n",
              "max             2.000000     1.000000     1.000000             4.000000   \n",
              "\n",
              "       blueTotalGold  blueAvgLevel  blueTotalExperience  \\\n",
              "count    9879.000000   9879.000000          9879.000000   \n",
              "mean    16503.455512      6.916004         17928.110133   \n",
              "std      1535.446636      0.305146          1200.523764   \n",
              "min     10730.000000      4.600000         10098.000000   \n",
              "25%     15415.500000      6.800000         17168.000000   \n",
              "50%     16398.000000      7.000000         17951.000000   \n",
              "75%     17459.000000      7.200000         18724.000000   \n",
              "max     23701.000000      8.000000         22224.000000   \n",
              "\n",
              "       blueTotalMinionsKilled  blueTotalJungleMinionsKilled  blueGoldDiff  \\\n",
              "count             9879.000000                   9879.000000   9879.000000   \n",
              "mean               216.699565                     50.509667     14.414111   \n",
              "std                 21.858437                      9.898282   2453.349179   \n",
              "min                 90.000000                      0.000000 -10830.000000   \n",
              "25%                202.000000                     44.000000  -1585.500000   \n",
              "50%                218.000000                     50.000000     14.000000   \n",
              "75%                232.000000                     56.000000   1596.000000   \n",
              "max                283.000000                     92.000000  11467.000000   \n",
              "\n",
              "       blueExperienceDiff  blueCSPerMin  blueGoldPerMin  redWardsPlaced  \\\n",
              "count         9879.000000   9879.000000     9879.000000     9879.000000   \n",
              "mean           -33.620306     21.669956     1650.345551       22.367952   \n",
              "std           1920.370438      2.185844      153.544664       18.457427   \n",
              "min          -9333.000000      9.000000     1073.000000        6.000000   \n",
              "25%          -1290.500000     20.200000     1541.550000       14.000000   \n",
              "50%            -28.000000     21.800000     1639.800000       16.000000   \n",
              "75%           1212.000000     23.200000     1745.900000       20.000000   \n",
              "max           8348.000000     28.300000     2370.100000      276.000000   \n",
              "\n",
              "       redWardsDestroyed  redFirstBlood     redKills    redDeaths  \\\n",
              "count        9879.000000    9879.000000  9879.000000  9879.000000   \n",
              "mean            2.723150       0.495192     6.137666     6.183925   \n",
              "std             2.138356       0.500002     2.933818     3.011028   \n",
              "min             0.000000       0.000000     0.000000     0.000000   \n",
              "25%             1.000000       0.000000     4.000000     4.000000   \n",
              "50%             2.000000       0.000000     6.000000     6.000000   \n",
              "75%             4.000000       1.000000     8.000000     8.000000   \n",
              "max            24.000000       1.000000    22.000000    22.000000   \n",
              "\n",
              "        redAssists  redEliteMonsters   redDragons   redHeralds  \\\n",
              "count  9879.000000       9879.000000  9879.000000  9879.000000   \n",
              "mean      6.662112          0.573135     0.413098     0.160036   \n",
              "std       4.060612          0.626482     0.492415     0.366658   \n",
              "min       0.000000          0.000000     0.000000     0.000000   \n",
              "25%       4.000000          0.000000     0.000000     0.000000   \n",
              "50%       6.000000          0.000000     0.000000     0.000000   \n",
              "75%       9.000000          1.000000     1.000000     0.000000   \n",
              "max      28.000000          2.000000     1.000000     1.000000   \n",
              "\n",
              "       redTowersDestroyed  redTotalGold  redAvgLevel  redTotalExperience  \\\n",
              "count         9879.000000   9879.000000  9879.000000         9879.000000   \n",
              "mean             0.043021  16489.041401     6.925316        17961.730438   \n",
              "std              0.216900   1490.888406     0.305311         1198.583912   \n",
              "min              0.000000  11212.000000     4.800000        10465.000000   \n",
              "25%              0.000000  15427.500000     6.800000        17209.500000   \n",
              "50%              0.000000  16378.000000     7.000000        17974.000000   \n",
              "75%              0.000000  17418.500000     7.200000        18764.500000   \n",
              "max              2.000000  22732.000000     8.200000        22269.000000   \n",
              "\n",
              "       redTotalMinionsKilled  redTotalJungleMinionsKilled   redGoldDiff  \\\n",
              "count            9879.000000                  9879.000000   9879.000000   \n",
              "mean              217.349226                    51.313088    -14.414111   \n",
              "std                21.911668                    10.027885   2453.349179   \n",
              "min               107.000000                     4.000000 -11467.000000   \n",
              "25%               203.000000                    44.000000  -1596.000000   \n",
              "50%               218.000000                    51.000000    -14.000000   \n",
              "75%               233.000000                    57.000000   1585.500000   \n",
              "max               289.000000                    92.000000  10830.000000   \n",
              "\n",
              "       redExperienceDiff  redCSPerMin  redGoldPerMin  \n",
              "count        9879.000000  9879.000000    9879.000000  \n",
              "mean           33.620306    21.734923    1648.904140  \n",
              "std          1920.370438     2.191167     149.088841  \n",
              "min         -8348.000000    10.700000    1121.200000  \n",
              "25%         -1212.000000    20.300000    1542.750000  \n",
              "50%            28.000000    21.800000    1637.800000  \n",
              "75%          1290.500000    23.300000    1741.850000  \n",
              "max          9333.000000    28.900000    2273.200000  "
            ],
            "text/html": [
              "\n",
              "  <div id=\"df-8f088976-4c37-408d-9e2e-70464c4ba8a6\">\n",
              "    <div class=\"colab-df-container\">\n",
              "      <div>\n",
              "<style scoped>\n",
              "    .dataframe tbody tr th:only-of-type {\n",
              "        vertical-align: middle;\n",
              "    }\n",
              "\n",
              "    .dataframe tbody tr th {\n",
              "        vertical-align: top;\n",
              "    }\n",
              "\n",
              "    .dataframe thead th {\n",
              "        text-align: right;\n",
              "    }\n",
              "</style>\n",
              "<table border=\"1\" class=\"dataframe\">\n",
              "  <thead>\n",
              "    <tr style=\"text-align: right;\">\n",
              "      <th></th>\n",
              "      <th>gameId</th>\n",
              "      <th>blueWins</th>\n",
              "      <th>blueWardsPlaced</th>\n",
              "      <th>blueWardsDestroyed</th>\n",
              "      <th>blueFirstBlood</th>\n",
              "      <th>blueKills</th>\n",
              "      <th>blueDeaths</th>\n",
              "      <th>blueAssists</th>\n",
              "      <th>blueEliteMonsters</th>\n",
              "      <th>blueDragons</th>\n",
              "      <th>blueHeralds</th>\n",
              "      <th>blueTowersDestroyed</th>\n",
              "      <th>blueTotalGold</th>\n",
              "      <th>blueAvgLevel</th>\n",
              "      <th>blueTotalExperience</th>\n",
              "      <th>blueTotalMinionsKilled</th>\n",
              "      <th>blueTotalJungleMinionsKilled</th>\n",
              "      <th>blueGoldDiff</th>\n",
              "      <th>blueExperienceDiff</th>\n",
              "      <th>blueCSPerMin</th>\n",
              "      <th>blueGoldPerMin</th>\n",
              "      <th>redWardsPlaced</th>\n",
              "      <th>redWardsDestroyed</th>\n",
              "      <th>redFirstBlood</th>\n",
              "      <th>redKills</th>\n",
              "      <th>redDeaths</th>\n",
              "      <th>redAssists</th>\n",
              "      <th>redEliteMonsters</th>\n",
              "      <th>redDragons</th>\n",
              "      <th>redHeralds</th>\n",
              "      <th>redTowersDestroyed</th>\n",
              "      <th>redTotalGold</th>\n",
              "      <th>redAvgLevel</th>\n",
              "      <th>redTotalExperience</th>\n",
              "      <th>redTotalMinionsKilled</th>\n",
              "      <th>redTotalJungleMinionsKilled</th>\n",
              "      <th>redGoldDiff</th>\n",
              "      <th>redExperienceDiff</th>\n",
              "      <th>redCSPerMin</th>\n",
              "      <th>redGoldPerMin</th>\n",
              "    </tr>\n",
              "  </thead>\n",
              "  <tbody>\n",
              "    <tr>\n",
              "      <th>count</th>\n",
              "      <td>9.879000e+03</td>\n",
              "      <td>9879.000000</td>\n",
              "      <td>9879.000000</td>\n",
              "      <td>9879.000000</td>\n",
              "      <td>9879.000000</td>\n",
              "      <td>9879.000000</td>\n",
              "      <td>9879.000000</td>\n",
              "      <td>9879.000000</td>\n",
              "      <td>9879.000000</td>\n",
              "      <td>9879.000000</td>\n",
              "      <td>9879.000000</td>\n",
              "      <td>9879.000000</td>\n",
              "      <td>9879.000000</td>\n",
              "      <td>9879.000000</td>\n",
              "      <td>9879.000000</td>\n",
              "      <td>9879.000000</td>\n",
              "      <td>9879.000000</td>\n",
              "      <td>9879.000000</td>\n",
              "      <td>9879.000000</td>\n",
              "      <td>9879.000000</td>\n",
              "      <td>9879.000000</td>\n",
              "      <td>9879.000000</td>\n",
              "      <td>9879.000000</td>\n",
              "      <td>9879.000000</td>\n",
              "      <td>9879.000000</td>\n",
              "      <td>9879.000000</td>\n",
              "      <td>9879.000000</td>\n",
              "      <td>9879.000000</td>\n",
              "      <td>9879.000000</td>\n",
              "      <td>9879.000000</td>\n",
              "      <td>9879.000000</td>\n",
              "      <td>9879.000000</td>\n",
              "      <td>9879.000000</td>\n",
              "      <td>9879.000000</td>\n",
              "      <td>9879.000000</td>\n",
              "      <td>9879.000000</td>\n",
              "      <td>9879.000000</td>\n",
              "      <td>9879.000000</td>\n",
              "      <td>9879.000000</td>\n",
              "      <td>9879.000000</td>\n",
              "    </tr>\n",
              "    <tr>\n",
              "      <th>mean</th>\n",
              "      <td>4.500084e+09</td>\n",
              "      <td>0.499038</td>\n",
              "      <td>22.288288</td>\n",
              "      <td>2.824881</td>\n",
              "      <td>0.504808</td>\n",
              "      <td>6.183925</td>\n",
              "      <td>6.137666</td>\n",
              "      <td>6.645106</td>\n",
              "      <td>0.549954</td>\n",
              "      <td>0.361980</td>\n",
              "      <td>0.187974</td>\n",
              "      <td>0.051422</td>\n",
              "      <td>16503.455512</td>\n",
              "      <td>6.916004</td>\n",
              "      <td>17928.110133</td>\n",
              "      <td>216.699565</td>\n",
              "      <td>50.509667</td>\n",
              "      <td>14.414111</td>\n",
              "      <td>-33.620306</td>\n",
              "      <td>21.669956</td>\n",
              "      <td>1650.345551</td>\n",
              "      <td>22.367952</td>\n",
              "      <td>2.723150</td>\n",
              "      <td>0.495192</td>\n",
              "      <td>6.137666</td>\n",
              "      <td>6.183925</td>\n",
              "      <td>6.662112</td>\n",
              "      <td>0.573135</td>\n",
              "      <td>0.413098</td>\n",
              "      <td>0.160036</td>\n",
              "      <td>0.043021</td>\n",
              "      <td>16489.041401</td>\n",
              "      <td>6.925316</td>\n",
              "      <td>17961.730438</td>\n",
              "      <td>217.349226</td>\n",
              "      <td>51.313088</td>\n",
              "      <td>-14.414111</td>\n",
              "      <td>33.620306</td>\n",
              "      <td>21.734923</td>\n",
              "      <td>1648.904140</td>\n",
              "    </tr>\n",
              "    <tr>\n",
              "      <th>std</th>\n",
              "      <td>2.757328e+07</td>\n",
              "      <td>0.500024</td>\n",
              "      <td>18.019177</td>\n",
              "      <td>2.174998</td>\n",
              "      <td>0.500002</td>\n",
              "      <td>3.011028</td>\n",
              "      <td>2.933818</td>\n",
              "      <td>4.064520</td>\n",
              "      <td>0.625527</td>\n",
              "      <td>0.480597</td>\n",
              "      <td>0.390712</td>\n",
              "      <td>0.244369</td>\n",
              "      <td>1535.446636</td>\n",
              "      <td>0.305146</td>\n",
              "      <td>1200.523764</td>\n",
              "      <td>21.858437</td>\n",
              "      <td>9.898282</td>\n",
              "      <td>2453.349179</td>\n",
              "      <td>1920.370438</td>\n",
              "      <td>2.185844</td>\n",
              "      <td>153.544664</td>\n",
              "      <td>18.457427</td>\n",
              "      <td>2.138356</td>\n",
              "      <td>0.500002</td>\n",
              "      <td>2.933818</td>\n",
              "      <td>3.011028</td>\n",
              "      <td>4.060612</td>\n",
              "      <td>0.626482</td>\n",
              "      <td>0.492415</td>\n",
              "      <td>0.366658</td>\n",
              "      <td>0.216900</td>\n",
              "      <td>1490.888406</td>\n",
              "      <td>0.305311</td>\n",
              "      <td>1198.583912</td>\n",
              "      <td>21.911668</td>\n",
              "      <td>10.027885</td>\n",
              "      <td>2453.349179</td>\n",
              "      <td>1920.370438</td>\n",
              "      <td>2.191167</td>\n",
              "      <td>149.088841</td>\n",
              "    </tr>\n",
              "    <tr>\n",
              "      <th>min</th>\n",
              "      <td>4.295358e+09</td>\n",
              "      <td>0.000000</td>\n",
              "      <td>5.000000</td>\n",
              "      <td>0.000000</td>\n",
              "      <td>0.000000</td>\n",
              "      <td>0.000000</td>\n",
              "      <td>0.000000</td>\n",
              "      <td>0.000000</td>\n",
              "      <td>0.000000</td>\n",
              "      <td>0.000000</td>\n",
              "      <td>0.000000</td>\n",
              "      <td>0.000000</td>\n",
              "      <td>10730.000000</td>\n",
              "      <td>4.600000</td>\n",
              "      <td>10098.000000</td>\n",
              "      <td>90.000000</td>\n",
              "      <td>0.000000</td>\n",
              "      <td>-10830.000000</td>\n",
              "      <td>-9333.000000</td>\n",
              "      <td>9.000000</td>\n",
              "      <td>1073.000000</td>\n",
              "      <td>6.000000</td>\n",
              "      <td>0.000000</td>\n",
              "      <td>0.000000</td>\n",
              "      <td>0.000000</td>\n",
              "      <td>0.000000</td>\n",
              "      <td>0.000000</td>\n",
              "      <td>0.000000</td>\n",
              "      <td>0.000000</td>\n",
              "      <td>0.000000</td>\n",
              "      <td>0.000000</td>\n",
              "      <td>11212.000000</td>\n",
              "      <td>4.800000</td>\n",
              "      <td>10465.000000</td>\n",
              "      <td>107.000000</td>\n",
              "      <td>4.000000</td>\n",
              "      <td>-11467.000000</td>\n",
              "      <td>-8348.000000</td>\n",
              "      <td>10.700000</td>\n",
              "      <td>1121.200000</td>\n",
              "    </tr>\n",
              "    <tr>\n",
              "      <th>25%</th>\n",
              "      <td>4.483301e+09</td>\n",
              "      <td>0.000000</td>\n",
              "      <td>14.000000</td>\n",
              "      <td>1.000000</td>\n",
              "      <td>0.000000</td>\n",
              "      <td>4.000000</td>\n",
              "      <td>4.000000</td>\n",
              "      <td>4.000000</td>\n",
              "      <td>0.000000</td>\n",
              "      <td>0.000000</td>\n",
              "      <td>0.000000</td>\n",
              "      <td>0.000000</td>\n",
              "      <td>15415.500000</td>\n",
              "      <td>6.800000</td>\n",
              "      <td>17168.000000</td>\n",
              "      <td>202.000000</td>\n",
              "      <td>44.000000</td>\n",
              "      <td>-1585.500000</td>\n",
              "      <td>-1290.500000</td>\n",
              "      <td>20.200000</td>\n",
              "      <td>1541.550000</td>\n",
              "      <td>14.000000</td>\n",
              "      <td>1.000000</td>\n",
              "      <td>0.000000</td>\n",
              "      <td>4.000000</td>\n",
              "      <td>4.000000</td>\n",
              "      <td>4.000000</td>\n",
              "      <td>0.000000</td>\n",
              "      <td>0.000000</td>\n",
              "      <td>0.000000</td>\n",
              "      <td>0.000000</td>\n",
              "      <td>15427.500000</td>\n",
              "      <td>6.800000</td>\n",
              "      <td>17209.500000</td>\n",
              "      <td>203.000000</td>\n",
              "      <td>44.000000</td>\n",
              "      <td>-1596.000000</td>\n",
              "      <td>-1212.000000</td>\n",
              "      <td>20.300000</td>\n",
              "      <td>1542.750000</td>\n",
              "    </tr>\n",
              "    <tr>\n",
              "      <th>50%</th>\n",
              "      <td>4.510920e+09</td>\n",
              "      <td>0.000000</td>\n",
              "      <td>16.000000</td>\n",
              "      <td>3.000000</td>\n",
              "      <td>1.000000</td>\n",
              "      <td>6.000000</td>\n",
              "      <td>6.000000</td>\n",
              "      <td>6.000000</td>\n",
              "      <td>0.000000</td>\n",
              "      <td>0.000000</td>\n",
              "      <td>0.000000</td>\n",
              "      <td>0.000000</td>\n",
              "      <td>16398.000000</td>\n",
              "      <td>7.000000</td>\n",
              "      <td>17951.000000</td>\n",
              "      <td>218.000000</td>\n",
              "      <td>50.000000</td>\n",
              "      <td>14.000000</td>\n",
              "      <td>-28.000000</td>\n",
              "      <td>21.800000</td>\n",
              "      <td>1639.800000</td>\n",
              "      <td>16.000000</td>\n",
              "      <td>2.000000</td>\n",
              "      <td>0.000000</td>\n",
              "      <td>6.000000</td>\n",
              "      <td>6.000000</td>\n",
              "      <td>6.000000</td>\n",
              "      <td>0.000000</td>\n",
              "      <td>0.000000</td>\n",
              "      <td>0.000000</td>\n",
              "      <td>0.000000</td>\n",
              "      <td>16378.000000</td>\n",
              "      <td>7.000000</td>\n",
              "      <td>17974.000000</td>\n",
              "      <td>218.000000</td>\n",
              "      <td>51.000000</td>\n",
              "      <td>-14.000000</td>\n",
              "      <td>28.000000</td>\n",
              "      <td>21.800000</td>\n",
              "      <td>1637.800000</td>\n",
              "    </tr>\n",
              "    <tr>\n",
              "      <th>75%</th>\n",
              "      <td>4.521733e+09</td>\n",
              "      <td>1.000000</td>\n",
              "      <td>20.000000</td>\n",
              "      <td>4.000000</td>\n",
              "      <td>1.000000</td>\n",
              "      <td>8.000000</td>\n",
              "      <td>8.000000</td>\n",
              "      <td>9.000000</td>\n",
              "      <td>1.000000</td>\n",
              "      <td>1.000000</td>\n",
              "      <td>0.000000</td>\n",
              "      <td>0.000000</td>\n",
              "      <td>17459.000000</td>\n",
              "      <td>7.200000</td>\n",
              "      <td>18724.000000</td>\n",
              "      <td>232.000000</td>\n",
              "      <td>56.000000</td>\n",
              "      <td>1596.000000</td>\n",
              "      <td>1212.000000</td>\n",
              "      <td>23.200000</td>\n",
              "      <td>1745.900000</td>\n",
              "      <td>20.000000</td>\n",
              "      <td>4.000000</td>\n",
              "      <td>1.000000</td>\n",
              "      <td>8.000000</td>\n",
              "      <td>8.000000</td>\n",
              "      <td>9.000000</td>\n",
              "      <td>1.000000</td>\n",
              "      <td>1.000000</td>\n",
              "      <td>0.000000</td>\n",
              "      <td>0.000000</td>\n",
              "      <td>17418.500000</td>\n",
              "      <td>7.200000</td>\n",
              "      <td>18764.500000</td>\n",
              "      <td>233.000000</td>\n",
              "      <td>57.000000</td>\n",
              "      <td>1585.500000</td>\n",
              "      <td>1290.500000</td>\n",
              "      <td>23.300000</td>\n",
              "      <td>1741.850000</td>\n",
              "    </tr>\n",
              "    <tr>\n",
              "      <th>max</th>\n",
              "      <td>4.527991e+09</td>\n",
              "      <td>1.000000</td>\n",
              "      <td>250.000000</td>\n",
              "      <td>27.000000</td>\n",
              "      <td>1.000000</td>\n",
              "      <td>22.000000</td>\n",
              "      <td>22.000000</td>\n",
              "      <td>29.000000</td>\n",
              "      <td>2.000000</td>\n",
              "      <td>1.000000</td>\n",
              "      <td>1.000000</td>\n",
              "      <td>4.000000</td>\n",
              "      <td>23701.000000</td>\n",
              "      <td>8.000000</td>\n",
              "      <td>22224.000000</td>\n",
              "      <td>283.000000</td>\n",
              "      <td>92.000000</td>\n",
              "      <td>11467.000000</td>\n",
              "      <td>8348.000000</td>\n",
              "      <td>28.300000</td>\n",
              "      <td>2370.100000</td>\n",
              "      <td>276.000000</td>\n",
              "      <td>24.000000</td>\n",
              "      <td>1.000000</td>\n",
              "      <td>22.000000</td>\n",
              "      <td>22.000000</td>\n",
              "      <td>28.000000</td>\n",
              "      <td>2.000000</td>\n",
              "      <td>1.000000</td>\n",
              "      <td>1.000000</td>\n",
              "      <td>2.000000</td>\n",
              "      <td>22732.000000</td>\n",
              "      <td>8.200000</td>\n",
              "      <td>22269.000000</td>\n",
              "      <td>289.000000</td>\n",
              "      <td>92.000000</td>\n",
              "      <td>10830.000000</td>\n",
              "      <td>9333.000000</td>\n",
              "      <td>28.900000</td>\n",
              "      <td>2273.200000</td>\n",
              "    </tr>\n",
              "  </tbody>\n",
              "</table>\n",
              "</div>\n",
              "      <button class=\"colab-df-convert\" onclick=\"convertToInteractive('df-8f088976-4c37-408d-9e2e-70464c4ba8a6')\"\n",
              "              title=\"Convert this dataframe to an interactive table.\"\n",
              "              style=\"display:none;\">\n",
              "        \n",
              "  <svg xmlns=\"http://www.w3.org/2000/svg\" height=\"24px\"viewBox=\"0 0 24 24\"\n",
              "       width=\"24px\">\n",
              "    <path d=\"M0 0h24v24H0V0z\" fill=\"none\"/>\n",
              "    <path d=\"M18.56 5.44l.94 2.06.94-2.06 2.06-.94-2.06-.94-.94-2.06-.94 2.06-2.06.94zm-11 1L8.5 8.5l.94-2.06 2.06-.94-2.06-.94L8.5 2.5l-.94 2.06-2.06.94zm10 10l.94 2.06.94-2.06 2.06-.94-2.06-.94-.94-2.06-.94 2.06-2.06.94z\"/><path d=\"M17.41 7.96l-1.37-1.37c-.4-.4-.92-.59-1.43-.59-.52 0-1.04.2-1.43.59L10.3 9.45l-7.72 7.72c-.78.78-.78 2.05 0 2.83L4 21.41c.39.39.9.59 1.41.59.51 0 1.02-.2 1.41-.59l7.78-7.78 2.81-2.81c.8-.78.8-2.07 0-2.86zM5.41 20L4 18.59l7.72-7.72 1.47 1.35L5.41 20z\"/>\n",
              "  </svg>\n",
              "      </button>\n",
              "      \n",
              "  <style>\n",
              "    .colab-df-container {\n",
              "      display:flex;\n",
              "      flex-wrap:wrap;\n",
              "      gap: 12px;\n",
              "    }\n",
              "\n",
              "    .colab-df-convert {\n",
              "      background-color: #E8F0FE;\n",
              "      border: none;\n",
              "      border-radius: 50%;\n",
              "      cursor: pointer;\n",
              "      display: none;\n",
              "      fill: #1967D2;\n",
              "      height: 32px;\n",
              "      padding: 0 0 0 0;\n",
              "      width: 32px;\n",
              "    }\n",
              "\n",
              "    .colab-df-convert:hover {\n",
              "      background-color: #E2EBFA;\n",
              "      box-shadow: 0px 1px 2px rgba(60, 64, 67, 0.3), 0px 1px 3px 1px rgba(60, 64, 67, 0.15);\n",
              "      fill: #174EA6;\n",
              "    }\n",
              "\n",
              "    [theme=dark] .colab-df-convert {\n",
              "      background-color: #3B4455;\n",
              "      fill: #D2E3FC;\n",
              "    }\n",
              "\n",
              "    [theme=dark] .colab-df-convert:hover {\n",
              "      background-color: #434B5C;\n",
              "      box-shadow: 0px 1px 3px 1px rgba(0, 0, 0, 0.15);\n",
              "      filter: drop-shadow(0px 1px 2px rgba(0, 0, 0, 0.3));\n",
              "      fill: #FFFFFF;\n",
              "    }\n",
              "  </style>\n",
              "\n",
              "      <script>\n",
              "        const buttonEl =\n",
              "          document.querySelector('#df-8f088976-4c37-408d-9e2e-70464c4ba8a6 button.colab-df-convert');\n",
              "        buttonEl.style.display =\n",
              "          google.colab.kernel.accessAllowed ? 'block' : 'none';\n",
              "\n",
              "        async function convertToInteractive(key) {\n",
              "          const element = document.querySelector('#df-8f088976-4c37-408d-9e2e-70464c4ba8a6');\n",
              "          const dataTable =\n",
              "            await google.colab.kernel.invokeFunction('convertToInteractive',\n",
              "                                                     [key], {});\n",
              "          if (!dataTable) return;\n",
              "\n",
              "          const docLinkHtml = 'Like what you see? Visit the ' +\n",
              "            '<a target=\"_blank\" href=https://colab.research.google.com/notebooks/data_table.ipynb>data table notebook</a>'\n",
              "            + ' to learn more about interactive tables.';\n",
              "          element.innerHTML = '';\n",
              "          dataTable['output_type'] = 'display_data';\n",
              "          await google.colab.output.renderOutput(dataTable, element);\n",
              "          const docLink = document.createElement('div');\n",
              "          docLink.innerHTML = docLinkHtml;\n",
              "          element.appendChild(docLink);\n",
              "        }\n",
              "      </script>\n",
              "    </div>\n",
              "  </div>\n",
              "  "
            ]
          },
          "metadata": {},
          "execution_count": 5
        }
      ]
    },
    {
      "cell_type": "code",
      "source": [
        "df_clean = df.copy()"
      ],
      "metadata": {
        "id": "0qG810sMif5T"
      },
      "execution_count": null,
      "outputs": []
    },
    {
      "cell_type": "code",
      "source": [
        "#Let's look for outliers. We can start with blueWardsPlaced\n",
        "import seaborn as sns\n",
        "import matplotlib.pyplot as plt\n",
        "f, ax = plt.subplots(figsize=(15, 6))\n",
        "bp = sns.boxplot(x=df_clean[\"blueWardsPlaced\"], width=0.7)\n",
        "0.99*250\n",
        "pd = sns.displot(df_clean[\"blueWardsPlaced\"], log_scale=False, height=3, aspect=4)\n"
      ],
      "metadata": {
        "colab": {
          "base_uri": "https://localhost:8080/",
          "height": 595
        },
        "id": "njcW2VUKmU74",
        "outputId": "b8aa12a9-e5ed-4475-9188-7b9308a841f5"
      },
      "execution_count": null,
      "outputs": [
        {
          "output_type": "display_data",
          "data": {
            "text/plain": [
              "<Figure size 1080x432 with 1 Axes>"
            ],
            "image/png": "[encoded data removed]"
          },
          "metadata": {
            "needs_background": "light"
          }
        },
        {
          "output_type": "display_data",
          "data": {
            "text/plain": [
              "<Figure size 864x216 with 1 Axes>"
            ],
            "image/png": "[encoded data removed]"
          },
          "metadata": {
            "needs_background": "light"
          }
        }
      ]
    },
    {
      "cell_type": "code",
      "source": [
        "#We remove the rows with >100 wards\n",
        "\n",
        "indexNames = df_clean[ df_clean['blueWardsPlaced'] > 100].index\n",
        "df_clean.drop(indexNames , inplace=True)\n",
        "\n",
        "indexNames = df_clean[ df_clean['redWardsPlaced'] > 100].index\n",
        "df_clean.drop(indexNames , inplace=True)\n",
        "\n",
        "removed = df.shape[0] - df_clean.shape[0]\n",
        "print(\"We removed {} outliers from the dataset\".format(removed))"
      ],
      "metadata": {
        "colab": {
          "base_uri": "https://localhost:8080/"
        },
        "id": "yGQhPs5SmVC8",
        "outputId": "050b708a-a3dc-43ba-c529-0599d819ec14"
      },
      "execution_count": null,
      "outputs": [
        {
          "output_type": "stream",
          "name": "stdout",
          "text": [
            "We removed 216 outliers from the dataset\n"
          ]
        }
      ]
    },
    {
      "cell_type": "code",
      "source": [
        "#Let's look at the distribution for deaths\n",
        "pd = sns.displot(df_clean[\"blueDeaths\"], log_scale=False, height=3, aspect=4)\n",
        "pd = sns.displot(df_clean[\"redDeaths\"], log_scale=False, height=3, aspect=4)"
      ],
      "metadata": {
        "colab": {
          "base_uri": "https://localhost:8080/",
          "height": 433
        },
        "id": "L-dkUpMTjdd7",
        "outputId": "bde61fe4-5633-4767-d4ac-9fd2d5a87051"
      },
      "execution_count": null,
      "outputs": [
        {
          "output_type": "display_data",
          "data": {
            "text/plain": [
              "<Figure size 864x216 with 1 Axes>"
            ],
            "image/png": "[encoded data removed]"
          },
          "metadata": {
            "needs_background": "light"
          }
        },
        {
          "output_type": "display_data",
          "data": {
            "text/plain": [
              "<Figure size 864x216 with 1 Axes>"
            ],
            "image/png": "[encoded data removed]"
          },
          "metadata": {
            "needs_background": "light"
          }
        }
      ]
    },
    {
      "cell_type": "code",
      "source": [
        "#We keep everything that is the same or below the 99th percentile\n",
        "df_clean = df_clean.loc[df_clean['blueDeaths'] <= np.quantile(df_clean['blueDeaths'],q=0.99)]\n",
        "df_clean = df_clean.loc[df_clean['redDeaths'] <= np.quantile(df_clean['redDeaths'],q=0.99)]\n",
        "\n",
        "removed1 = df.shape[0] - (df_clean.shape[0] + removed)\n",
        "print(\"We removed {} outliers from the dataset\".format(removed1))"
      ],
      "metadata": {
        "colab": {
          "base_uri": "https://localhost:8080/"
        },
        "id": "uD0b4zlamVFH",
        "outputId": "818eb386-c515-4eb4-fe12-80d997b9d68d"
      },
      "execution_count": null,
      "outputs": [
        {
          "output_type": "stream",
          "name": "stdout",
          "text": [
            "We removed 149 outliers from the dataset\n"
          ]
        }
      ]
    },
    {
      "cell_type": "code",
      "source": [
        "#Let's look at the distribution for deaths after we removed the outliers\n",
        "pd = sns.displot(df_clean[\"blueDeaths\"], log_scale=False, height=3, aspect=4)\n",
        "pd = sns.displot(df_clean[\"redDeaths\"], log_scale=False, height=3, aspect=4)"
      ],
      "metadata": {
        "colab": {
          "base_uri": "https://localhost:8080/",
          "height": 433
        },
        "id": "7a-xTaB2kVcs",
        "outputId": "670d51be-9a22-4240-b350-cd349c664a7e"
      },
      "execution_count": null,
      "outputs": [
        {
          "output_type": "display_data",
          "data": {
            "text/plain": [
              "<Figure size 864x216 with 1 Axes>"
            ],
            "image/png": "[encoded data removed]"
          },
          "metadata": {
            "needs_background": "light"
          }
        },
        {
          "output_type": "display_data",
          "data": {
            "text/plain": [
              "<Figure size 864x216 with 1 Axes>"
            ],
            "image/png": "[encoded data removed]"
          },
          "metadata": {
            "needs_background": "light"
          }
        }
      ]
    },
    {
      "cell_type": "code",
      "source": [
        "#Let's look at the distribution for towersDestroyed\n",
        "pd = sns.displot(df_clean[\"blueTowersDestroyed\"], log_scale=False, height=3, aspect=4)\n",
        "pd = sns.displot(df_clean[\"redTowersDestroyed\"], log_scale=False, height=3, aspect=4)\n"
      ],
      "metadata": {
        "colab": {
          "base_uri": "https://localhost:8080/",
          "height": 433
        },
        "id": "GfsRcR9Plp2U",
        "outputId": "a9097089-f922-43bf-bc31-19f17dbd020e"
      },
      "execution_count": null,
      "outputs": [
        {
          "output_type": "display_data",
          "data": {
            "text/plain": [
              "<Figure size 864x216 with 1 Axes>"
            ],
            "image/png": "[encoded data removed]"
          },
          "metadata": {
            "needs_background": "light"
          }
        },
        {
          "output_type": "display_data",
          "data": {
            "text/plain": [
              "<Figure size 864x216 with 1 Axes>"
            ],
            "image/png": "[encoded data removed]"
          },
          "metadata": {
            "needs_background": "light"
          }
        }
      ]
    },
    {
      "cell_type": "code",
      "source": [
        "#We remove everything above 1 tower destroyed\n",
        "indexNames = df_clean[ df_clean['blueTowersDestroyed'] > 1].index\n",
        "df_clean.drop(indexNames , inplace=True)\n",
        "\n",
        "indexNames = df_clean[ df_clean['redTowersDestroyed'] > 1].index\n",
        "df_clean.drop(indexNames , inplace=True)\n",
        "\n",
        "removed2 = df.shape[0] - (df_clean.shape[0] + removed + removed1)\n",
        "print(\"We removed {} outliers from the dataset\".format(removed2))"
      ],
      "metadata": {
        "colab": {
          "base_uri": "https://localhost:8080/"
        },
        "id": "Yk6jyuxqmVHT",
        "outputId": "c57ccce5-34ba-4d67-ede2-62c478b7b563"
      },
      "execution_count": null,
      "outputs": [
        {
          "output_type": "stream",
          "name": "stdout",
          "text": [
            "We removed 59 outliers from the dataset\n"
          ]
        }
      ]
    },
    {
      "cell_type": "code",
      "source": [
        "df_clean.shape[0]"
      ],
      "metadata": {
        "colab": {
          "base_uri": "https://localhost:8080/"
        },
        "id": "1E0mROMMmVJo",
        "outputId": "a19a1711-8b19-4539-9728-a68aea248863"
      },
      "execution_count": null,
      "outputs": [
        {
          "output_type": "execute_result",
          "data": {
            "text/plain": [
              "9455"
            ]
          },
          "metadata": {},
          "execution_count": 14
        }
      ]
    },
    {
      "cell_type": "code",
      "source": [
        "#Let's have a look at the correlations between attributes. \n",
        "#Here I have created a new dataframe with only 12 of the main dataset's attributes (instead of the original 40)\n",
        "#I purposely picked the attributes with the highest correlations to demonstrate their values and relationship to each other.\n",
        "df_corr = df_clean[['blueKills', 'blueDeaths', 'blueAssists', 'blueTotalGold', 'blueAvgLevel', 'blueTotalExperience', 'redKills', 'redDeaths', 'redAssists', 'redTotalGold', 'redAvgLevel', 'redTotalExperience']]\n",
        "plt.figure(figsize=(10, 10))\n",
        "sns.heatmap(df_corr.corr(), cmap='YlGnBu', annot=True, fmt='.2f', vmin=0);"
      ],
      "metadata": {
        "colab": {
          "base_uri": "https://localhost:8080/",
          "height": 685
        },
        "id": "vuht_2TSB1vM",
        "outputId": "cfa090c7-7bf6-414e-a576-3f7e89a475e5"
      },
      "execution_count": null,
      "outputs": [
        {
          "output_type": "display_data",
          "data": {
            "text/plain": [
              "<Figure size 720x720 with 2 Axes>"
            ],
            "image/png": "[encoded data removed]"
          },
          "metadata": {
            "needs_background": "light"
          }
        }
      ]
    },
    {
      "cell_type": "code",
      "source": [
        "#We can see there is definitely some strong correlations amongst attributes. \n",
        "#For example, blueAvgLevel has a 0.9 correlation factor to blueTotalExperience. This is because average level is total experience divided by the number of players\n",
        "#Another example is blueKills has a correlation factor or 1.0 with redDeaths. A kill for the blue team is always a death for the red team.\n",
        "#By taking the difference of these attributes, we can eliminate some of the strong correlations present within the dataset. \n",
        "#Indeed, if we create the attribute killsDiff = blueKills - blueDeaths, we can then remove 'blueKills', 'blueDeaths', 'redKills' and 'redDeaths'."
      ],
      "metadata": {
        "id": "iiXAi7tKCP3O"
      },
      "execution_count": null,
      "outputs": []
    },
    {
      "cell_type": "code",
      "source": [
        "#Let's drop unnecessary columns (see project report)\n",
        "colsDrop = ['gameId', 'blueEliteMonsters', 'blueGoldDiff', 'blueExperienceDiff', 'blueCSPerMin', 'blueGoldPerMin', 'blueAvgLevel', 'redFirstBlood', \n",
        "             'redKills', 'redDeaths', 'redEliteMonsters', 'redGoldDiff', 'redExperienceDiff', 'redCSPerMin', 'redGoldPerMin', 'redAvgLevel']\n",
        "df_clean = df_clean.drop(axis=1,  columns=colsDrop)"
      ],
      "metadata": {
        "id": "Aw3ofcEdmVOB"
      },
      "execution_count": null,
      "outputs": []
    },
    {
      "cell_type": "code",
      "source": [
        "#Now, we create the difference of colums\n",
        "#For example, wardsPlacedDiff = blueWardsPlaced - redWardsPlaced\n",
        "#Note: killsDiff = blueKills - blueDeaths \n",
        "df_clean['wardsPlacedDiff'] = df_clean['blueWardsPlaced'] - df_clean['redWardsPlaced']\n",
        "df_clean['wardsDestroyedDiff'] = df_clean['blueWardsDestroyed'] - df_clean['redWardsDestroyed']\n",
        "df_clean['killsDiff'] = df_clean['blueKills'] - df_clean['blueDeaths']\n",
        "df_clean['assistsDiff'] = df_clean['blueAssists'] - df_clean['redAssists']\n",
        "df_clean['dragonDiff'] = df_clean['blueDragons'] - df_clean['redDragons']\n",
        "df_clean['heraldDiff'] = df_clean['blueHeralds'] - df_clean['redHeralds']\n",
        "df_clean['towersDestroyedDiff'] = df_clean['blueTowersDestroyed'] - df_clean['redTowersDestroyed']\n",
        "df_clean['totalGoldDiff'] = df_clean['blueTotalGold'] - df_clean['redTotalGold']\n",
        "df_clean['totalExperienceDiff'] = df_clean['blueTotalExperience'] - df_clean['redTotalExperience']\n",
        "df_clean['totalMinionsKilledDiff'] = df_clean['blueTotalMinionsKilled'] - df_clean['redTotalMinionsKilled']\n",
        "df_clean['totalJungleMinionsKilledDiff'] = df_clean['blueTotalJungleMinionsKilled'] - df_clean['redTotalJungleMinionsKilled']"
      ],
      "metadata": {
        "id": "czcuMZwlmVQU"
      },
      "execution_count": null,
      "outputs": []
    },
    {
      "cell_type": "code",
      "source": [
        "#Then, we select all the colums we used for the difference and drop them.\n",
        "colsdiff = ['blueWardsPlaced', 'redWardsPlaced', 'blueWardsDestroyed', 'redWardsDestroyed', 'blueKills', 'blueDeaths', \n",
        "            'blueAssists', 'redAssists','blueDragons', 'redDragons', 'blueHeralds', 'redHeralds', \n",
        "            'blueTowersDestroyed','redTowersDestroyed', 'blueTotalGold', 'redTotalGold', 'blueTotalMinionsKilled', \n",
        "            'redTotalMinionsKilled', 'blueTotalJungleMinionsKilled', 'redTotalJungleMinionsKilled',\n",
        "            'blueTotalExperience', 'redTotalExperience']\n"
      ],
      "metadata": {
        "id": "8-uTFIjJmVSs"
      },
      "execution_count": null,
      "outputs": []
    },
    {
      "cell_type": "code",
      "source": [
        "df_clean = df_clean.drop(axis=1, columns=colsdiff)"
      ],
      "metadata": {
        "id": "mOlu7crDmVVh"
      },
      "execution_count": null,
      "outputs": []
    },
    {
      "cell_type": "code",
      "source": [
        "#This is what the dataset looks like. All that is left before training is data normalization.\n",
        "df_clean.info()"
      ],
      "metadata": {
        "colab": {
          "base_uri": "https://localhost:8080/"
        },
        "id": "g6gZVIdhmVYZ",
        "outputId": "180be561-21e7-4475-984c-6e4bd4f152b5"
      },
      "execution_count": null,
      "outputs": [
        {
          "output_type": "stream",
          "name": "stdout",
          "text": [
            "<class 'pandas.core.frame.DataFrame'>\n",
            "Int64Index: 9455 entries, 0 to 9878\n",
            "Data columns (total 13 columns):\n",
            " #   Column                        Non-Null Count  Dtype\n",
            "---  ------                        --------------  -----\n",
            " 0   blueWins                      9455 non-null   int64\n",
            " 1   blueFirstBlood                9455 non-null   int64\n",
            " 2   wardsPlacedDiff               9455 non-null   int64\n",
            " 3   wardsDestroyedDiff            9455 non-null   int64\n",
            " 4   killsDiff                     9455 non-null   int64\n",
            " 5   assistsDiff                   9455 non-null   int64\n",
            " 6   dragonDiff                    9455 non-null   int64\n",
            " 7   heraldDiff                    9455 non-null   int64\n",
            " 8   towersDestroyedDiff           9455 non-null   int64\n",
            " 9   totalGoldDiff                 9455 non-null   int64\n",
            " 10  totalExperienceDiff           9455 non-null   int64\n",
            " 11  totalMinionsKilledDiff        9455 non-null   int64\n",
            " 12  totalJungleMinionsKilledDiff  9455 non-null   int64\n",
            "dtypes: int64(13)\n",
            "memory usage: 1.0 MB\n"
          ]
        }
      ]
    },
    {
      "cell_type": "code",
      "source": [
        "df_clean.describe()"
      ],
      "metadata": {
        "colab": {
          "base_uri": "https://localhost:8080/",
          "height": 300
        },
        "id": "Dqt_uQIaH-4L",
        "outputId": "7e40e381-7f7b-4cf9-9d17-274106b91384"
      },
      "execution_count": null,
      "outputs": [
        {
          "output_type": "execute_result",
          "data": {
            "text/plain": [
              "          blueWins  blueFirstBlood  wardsPlacedDiff  wardsDestroyedDiff  \\\n",
              "count  9455.000000     9455.000000      9455.000000         9455.000000   \n",
              "mean      0.497620        0.504178        -0.021047            0.098255   \n",
              "std       0.500021        0.500009        19.148393            2.859811   \n",
              "min       0.000000        0.000000       -84.000000          -23.000000   \n",
              "25%       0.000000        0.000000        -4.000000           -1.000000   \n",
              "50%       0.000000        1.000000         0.000000            0.000000   \n",
              "75%       1.000000        1.000000         4.000000            1.000000   \n",
              "max       1.000000        1.000000        84.000000           23.000000   \n",
              "\n",
              "         killsDiff  assistsDiff   dragonDiff   heraldDiff  \\\n",
              "count  9455.000000  9455.000000  9455.000000  9455.000000   \n",
              "mean      0.023480    -0.042729    -0.053517     0.028874   \n",
              "std       4.021767     5.607657     0.879744     0.585878   \n",
              "min     -13.000000   -21.000000    -1.000000    -1.000000   \n",
              "25%      -3.000000    -4.000000    -1.000000     0.000000   \n",
              "50%       0.000000     0.000000     0.000000     0.000000   \n",
              "75%       3.000000     4.000000     1.000000     0.000000   \n",
              "max      13.000000    23.000000     1.000000     1.000000   \n",
              "\n",
              "       towersDestroyedDiff  totalGoldDiff  totalExperienceDiff  \\\n",
              "count          9455.000000    9455.000000          9455.000000   \n",
              "mean              0.004336      -1.390481           -43.372290   \n",
              "std               0.272656    2349.696730          1856.716885   \n",
              "min              -1.000000   -8472.000000         -8242.000000   \n",
              "25%               0.000000   -1558.000000         -1275.000000   \n",
              "50%               0.000000       7.000000           -31.000000   \n",
              "75%               0.000000    1550.000000          1184.000000   \n",
              "max               1.000000    8347.000000          7621.000000   \n",
              "\n",
              "       totalMinionsKilledDiff  totalJungleMinionsKilledDiff  \n",
              "count             9455.000000                   9455.000000  \n",
              "mean                -0.806452                     -0.800635  \n",
              "std                 30.377238                     14.251152  \n",
              "min               -120.000000                    -64.000000  \n",
              "25%                -21.000000                    -10.000000  \n",
              "50%                 -1.000000                      0.000000  \n",
              "75%                 20.000000                      8.000000  \n",
              "max                117.000000                     64.000000  "
            ],
            "text/html": [
              "\n",
              "  <div id=\"df-34f96d31-85ce-493b-a3d2-8d84eb00bc58\">\n",
              "    <div class=\"colab-df-container\">\n",
              "      <div>\n",
              "<style scoped>\n",
              "    .dataframe tbody tr th:only-of-type {\n",
              "        vertical-align: middle;\n",
              "    }\n",
              "\n",
              "    .dataframe tbody tr th {\n",
              "        vertical-align: top;\n",
              "    }\n",
              "\n",
              "    .dataframe thead th {\n",
              "        text-align: right;\n",
              "    }\n",
              "</style>\n",
              "<table border=\"1\" class=\"dataframe\">\n",
              "  <thead>\n",
              "    <tr style=\"text-align: right;\">\n",
              "      <th></th>\n",
              "      <th>blueWins</th>\n",
              "      <th>blueFirstBlood</th>\n",
              "      <th>wardsPlacedDiff</th>\n",
              "      <th>wardsDestroyedDiff</th>\n",
              "      <th>killsDiff</th>\n",
              "      <th>assistsDiff</th>\n",
              "      <th>dragonDiff</th>\n",
              "      <th>heraldDiff</th>\n",
              "      <th>towersDestroyedDiff</th>\n",
              "      <th>totalGoldDiff</th>\n",
              "      <th>totalExperienceDiff</th>\n",
              "      <th>totalMinionsKilledDiff</th>\n",
              "      <th>totalJungleMinionsKilledDiff</th>\n",
              "    </tr>\n",
              "  </thead>\n",
              "  <tbody>\n",
              "    <tr>\n",
              "      <th>count</th>\n",
              "      <td>9455.000000</td>\n",
              "      <td>9455.000000</td>\n",
              "      <td>9455.000000</td>\n",
              "      <td>9455.000000</td>\n",
              "      <td>9455.000000</td>\n",
              "      <td>9455.000000</td>\n",
              "      <td>9455.000000</td>\n",
              "      <td>9455.000000</td>\n",
              "      <td>9455.000000</td>\n",
              "      <td>9455.000000</td>\n",
              "      <td>9455.000000</td>\n",
              "      <td>9455.000000</td>\n",
              "      <td>9455.000000</td>\n",
              "    </tr>\n",
              "    <tr>\n",
              "      <th>mean</th>\n",
              "      <td>0.497620</td>\n",
              "      <td>0.504178</td>\n",
              "      <td>-0.021047</td>\n",
              "      <td>0.098255</td>\n",
              "      <td>0.023480</td>\n",
              "      <td>-0.042729</td>\n",
              "      <td>-0.053517</td>\n",
              "      <td>0.028874</td>\n",
              "      <td>0.004336</td>\n",
              "      <td>-1.390481</td>\n",
              "      <td>-43.372290</td>\n",
              "      <td>-0.806452</td>\n",
              "      <td>-0.800635</td>\n",
              "    </tr>\n",
              "    <tr>\n",
              "      <th>std</th>\n",
              "      <td>0.500021</td>\n",
              "      <td>0.500009</td>\n",
              "      <td>19.148393</td>\n",
              "      <td>2.859811</td>\n",
              "      <td>4.021767</td>\n",
              "      <td>5.607657</td>\n",
              "      <td>0.879744</td>\n",
              "      <td>0.585878</td>\n",
              "      <td>0.272656</td>\n",
              "      <td>2349.696730</td>\n",
              "      <td>1856.716885</td>\n",
              "      <td>30.377238</td>\n",
              "      <td>14.251152</td>\n",
              "    </tr>\n",
              "    <tr>\n",
              "      <th>min</th>\n",
              "      <td>0.000000</td>\n",
              "      <td>0.000000</td>\n",
              "      <td>-84.000000</td>\n",
              "      <td>-23.000000</td>\n",
              "      <td>-13.000000</td>\n",
              "      <td>-21.000000</td>\n",
              "      <td>-1.000000</td>\n",
              "      <td>-1.000000</td>\n",
              "      <td>-1.000000</td>\n",
              "      <td>-8472.000000</td>\n",
              "      <td>-8242.000000</td>\n",
              "      <td>-120.000000</td>\n",
              "      <td>-64.000000</td>\n",
              "    </tr>\n",
              "    <tr>\n",
              "      <th>25%</th>\n",
              "      <td>0.000000</td>\n",
              "      <td>0.000000</td>\n",
              "      <td>-4.000000</td>\n",
              "      <td>-1.000000</td>\n",
              "      <td>-3.000000</td>\n",
              "      <td>-4.000000</td>\n",
              "      <td>-1.000000</td>\n",
              "      <td>0.000000</td>\n",
              "      <td>0.000000</td>\n",
              "      <td>-1558.000000</td>\n",
              "      <td>-1275.000000</td>\n",
              "      <td>-21.000000</td>\n",
              "      <td>-10.000000</td>\n",
              "    </tr>\n",
              "    <tr>\n",
              "      <th>50%</th>\n",
              "      <td>0.000000</td>\n",
              "      <td>1.000000</td>\n",
              "      <td>0.000000</td>\n",
              "      <td>0.000000</td>\n",
              "      <td>0.000000</td>\n",
              "      <td>0.000000</td>\n",
              "      <td>0.000000</td>\n",
              "      <td>0.000000</td>\n",
              "      <td>0.000000</td>\n",
              "      <td>7.000000</td>\n",
              "      <td>-31.000000</td>\n",
              "      <td>-1.000000</td>\n",
              "      <td>0.000000</td>\n",
              "    </tr>\n",
              "    <tr>\n",
              "      <th>75%</th>\n",
              "      <td>1.000000</td>\n",
              "      <td>1.000000</td>\n",
              "      <td>4.000000</td>\n",
              "      <td>1.000000</td>\n",
              "      <td>3.000000</td>\n",
              "      <td>4.000000</td>\n",
              "      <td>1.000000</td>\n",
              "      <td>0.000000</td>\n",
              "      <td>0.000000</td>\n",
              "      <td>1550.000000</td>\n",
              "      <td>1184.000000</td>\n",
              "      <td>20.000000</td>\n",
              "      <td>8.000000</td>\n",
              "    </tr>\n",
              "    <tr>\n",
              "      <th>max</th>\n",
              "      <td>1.000000</td>\n",
              "      <td>1.000000</td>\n",
              "      <td>84.000000</td>\n",
              "      <td>23.000000</td>\n",
              "      <td>13.000000</td>\n",
              "      <td>23.000000</td>\n",
              "      <td>1.000000</td>\n",
              "      <td>1.000000</td>\n",
              "      <td>1.000000</td>\n",
              "      <td>8347.000000</td>\n",
              "      <td>7621.000000</td>\n",
              "      <td>117.000000</td>\n",
              "      <td>64.000000</td>\n",
              "    </tr>\n",
              "  </tbody>\n",
              "</table>\n",
              "</div>\n",
              "      <button class=\"colab-df-convert\" onclick=\"convertToInteractive('df-34f96d31-85ce-493b-a3d2-8d84eb00bc58')\"\n",
              "              title=\"Convert this dataframe to an interactive table.\"\n",
              "              style=\"display:none;\">\n",
              "        \n",
              "  <svg xmlns=\"http://www.w3.org/2000/svg\" height=\"24px\"viewBox=\"0 0 24 24\"\n",
              "       width=\"24px\">\n",
              "    <path d=\"M0 0h24v24H0V0z\" fill=\"none\"/>\n",
              "    <path d=\"M18.56 5.44l.94 2.06.94-2.06 2.06-.94-2.06-.94-.94-2.06-.94 2.06-2.06.94zm-11 1L8.5 8.5l.94-2.06 2.06-.94-2.06-.94L8.5 2.5l-.94 2.06-2.06.94zm10 10l.94 2.06.94-2.06 2.06-.94-2.06-.94-.94-2.06-.94 2.06-2.06.94z\"/><path d=\"M17.41 7.96l-1.37-1.37c-.4-.4-.92-.59-1.43-.59-.52 0-1.04.2-1.43.59L10.3 9.45l-7.72 7.72c-.78.78-.78 2.05 0 2.83L4 21.41c.39.39.9.59 1.41.59.51 0 1.02-.2 1.41-.59l7.78-7.78 2.81-2.81c.8-.78.8-2.07 0-2.86zM5.41 20L4 18.59l7.72-7.72 1.47 1.35L5.41 20z\"/>\n",
              "  </svg>\n",
              "      </button>\n",
              "      \n",
              "  <style>\n",
              "    .colab-df-container {\n",
              "      display:flex;\n",
              "      flex-wrap:wrap;\n",
              "      gap: 12px;\n",
              "    }\n",
              "\n",
              "    .colab-df-convert {\n",
              "      background-color: #E8F0FE;\n",
              "      border: none;\n",
              "      border-radius: 50%;\n",
              "      cursor: pointer;\n",
              "      display: none;\n",
              "      fill: #1967D2;\n",
              "      height: 32px;\n",
              "      padding: 0 0 0 0;\n",
              "      width: 32px;\n",
              "    }\n",
              "\n",
              "    .colab-df-convert:hover {\n",
              "      background-color: #E2EBFA;\n",
              "      box-shadow: 0px 1px 2px rgba(60, 64, 67, 0.3), 0px 1px 3px 1px rgba(60, 64, 67, 0.15);\n",
              "      fill: #174EA6;\n",
              "    }\n",
              "\n",
              "    [theme=dark] .colab-df-convert {\n",
              "      background-color: #3B4455;\n",
              "      fill: #D2E3FC;\n",
              "    }\n",
              "\n",
              "    [theme=dark] .colab-df-convert:hover {\n",
              "      background-color: #434B5C;\n",
              "      box-shadow: 0px 1px 3px 1px rgba(0, 0, 0, 0.15);\n",
              "      filter: drop-shadow(0px 1px 2px rgba(0, 0, 0, 0.3));\n",
              "      fill: #FFFFFF;\n",
              "    }\n",
              "  </style>\n",
              "\n",
              "      <script>\n",
              "        const buttonEl =\n",
              "          document.querySelector('#df-34f96d31-85ce-493b-a3d2-8d84eb00bc58 button.colab-df-convert');\n",
              "        buttonEl.style.display =\n",
              "          google.colab.kernel.accessAllowed ? 'block' : 'none';\n",
              "\n",
              "        async function convertToInteractive(key) {\n",
              "          const element = document.querySelector('#df-34f96d31-85ce-493b-a3d2-8d84eb00bc58');\n",
              "          const dataTable =\n",
              "            await google.colab.kernel.invokeFunction('convertToInteractive',\n",
              "                                                     [key], {});\n",
              "          if (!dataTable) return;\n",
              "\n",
              "          const docLinkHtml = 'Like what you see? Visit the ' +\n",
              "            '<a target=\"_blank\" href=https://colab.research.google.com/notebooks/data_table.ipynb>data table notebook</a>'\n",
              "            + ' to learn more about interactive tables.';\n",
              "          element.innerHTML = '';\n",
              "          dataTable['output_type'] = 'display_data';\n",
              "          await google.colab.output.renderOutput(dataTable, element);\n",
              "          const docLink = document.createElement('div');\n",
              "          docLink.innerHTML = docLinkHtml;\n",
              "          element.appendChild(docLink);\n",
              "        }\n",
              "      </script>\n",
              "    </div>\n",
              "  </div>\n",
              "  "
            ]
          },
          "metadata": {},
          "execution_count": 22
        }
      ]
    },
    {
      "cell_type": "code",
      "source": [
        "#Let's see how the data is distributed for a couple attributes now that we have new colums\n",
        "pd1 = sns.displot(df_clean[\"wardsPlacedDiff\"], log_scale=False, height=2, aspect=2)\n",
        "pd2 = sns.displot(df_clean[\"wardsDestroyedDiff\"], log_scale=False, height=2, aspect=2)\n",
        "pd3 = sns.displot(df_clean[\"killsDiff\"], log_scale=False, height=2, aspect=2)\n",
        "pd4 = sns.displot(df_clean[\"assistsDiff\"], log_scale=False, height=2, aspect=2)\n",
        "pd5 = sns.displot(df_clean[\"totalGoldDiff\"], log_scale=False, height=2, aspect=2)\n",
        "pd6 = sns.displot(df_clean[\"totalExperienceDiff\"], log_scale=False, height=2, aspect=2)\n",
        "pd7 = sns.displot(df_clean[\"totalMinionsKilledDiff\"], log_scale=False, height=2, aspect=2)\n",
        "pd8 = sns.displot(df_clean[\"totalJungleMinionsKilledDiff\"], log_scale=False, height=2, aspect=2)\n"
      ],
      "metadata": {
        "colab": {
          "base_uri": "https://localhost:8080/",
          "height": 1000
        },
        "id": "vjxnaEBKOdv1",
        "outputId": "50a989e8-1758-4097-e103-096c96aa0850"
      },
      "execution_count": null,
      "outputs": [
        {
          "output_type": "display_data",
          "data": {
            "text/plain": [
              "<Figure size 288x144 with 1 Axes>"
            ],
            "image/png": "[encoded data removed]"
          },
          "metadata": {
            "needs_background": "light"
          }
        },
        {
          "output_type": "display_data",
          "data": {
            "text/plain": [
              "<Figure size 288x144 with 1 Axes>"
            ],
            "image/png": "[encoded data removed]"
          },
          "metadata": {
            "needs_background": "light"
          }
        },
        {
          "output_type": "display_data",
          "data": {
            "text/plain": [
              "<Figure size 288x144 with 1 Axes>"
            ],
            "image/png": "[encoded data removed]"
          },
          "metadata": {
            "needs_background": "light"
          }
        },
        {
          "output_type": "display_data",
          "data": {
            "text/plain": [
              "<Figure size 288x144 with 1 Axes>"
            ],
            "image/png": "[encoded data removed]"
          },
          "metadata": {
            "needs_background": "light"
          }
        },
        {
          "output_type": "display_data",
          "data": {
            "text/plain": [
              "<Figure size 288x144 with 1 Axes>"
            ],
            "image/png": "[encoded data removed]"
          },
          "metadata": {
            "needs_background": "light"
          }
        },
        {
          "output_type": "display_data",
          "data": {
            "text/plain": [
              "<Figure size 288x144 with 1 Axes>"
            ],
            "image/png": "[encoded data removed]"
          },
          "metadata": {
            "needs_background": "light"
          }
        },
        {
          "output_type": "display_data",
          "data": {
            "text/plain": [
              "<Figure size 288x144 with 1 Axes>"
            ],
            "image/png": "[encoded data removed]"
          },
          "metadata": {
            "needs_background": "light"
          }
        },
        {
          "output_type": "display_data",
          "data": {
            "text/plain": [
              "<Figure size 288x144 with 1 Axes>"
            ],
            "image/png": "[encoded data removed]"
          },
          "metadata": {
            "needs_background": "light"
          }
        }
      ]
    },
    {
      "cell_type": "code",
      "source": [
        "#The data is loosely centered around 0 and follows a bell-shaped curve."
      ],
      "metadata": {
        "id": "SfF7AJJaC4Ac"
      },
      "execution_count": null,
      "outputs": []
    },
    {
      "cell_type": "code",
      "source": [
        "#Let's look at the  the attribute 'dragonDiff' = blueDragon - redDragon\n",
        "#The values are either -1, 0 or 1\n",
        "\n",
        "plot1 = sns.histplot(data= df_clean['dragonDiff'], color='b').set(title = 'Values for dragonDiff')"
      ],
      "metadata": {
        "colab": {
          "base_uri": "https://localhost:8080/",
          "height": 294
        },
        "id": "buoOPWEpWMm3",
        "outputId": "3224364f-9221-40f4-bd84-55d424462edc"
      },
      "execution_count": null,
      "outputs": [
        {
          "output_type": "display_data",
          "data": {
            "text/plain": [
              "<Figure size 432x288 with 1 Axes>"
            ],
            "image/png": "[encoded data removed]"
          },
          "metadata": {
            "needs_background": "light"
          }
        }
      ]
    },
    {
      "cell_type": "code",
      "source": [
        "plot2 = sns.histplot(data= df_clean['heraldDiff'], color='b').set(title = 'Values for heraldDiff')"
      ],
      "metadata": {
        "colab": {
          "base_uri": "https://localhost:8080/",
          "height": 294
        },
        "id": "vRuXii2kWfHL",
        "outputId": "b8ea8c33-9b71-4f97-c797-ca4b10a68595"
      },
      "execution_count": null,
      "outputs": [
        {
          "output_type": "display_data",
          "data": {
            "text/plain": [
              "<Figure size 432x288 with 1 Axes>"
            ],
            "image/png": "[encoded data removed]"
          },
          "metadata": {
            "needs_background": "light"
          }
        }
      ]
    },
    {
      "cell_type": "code",
      "source": [
        "plot3 = sns.histplot(data= df_clean['towersDestroyedDiff'], color='b').set(title = 'Values for towersDestroyedDiff')"
      ],
      "metadata": {
        "colab": {
          "base_uri": "https://localhost:8080/",
          "height": 294
        },
        "id": "5kSPoivoWrl2",
        "outputId": "5bfaf9c0-fa0b-4052-d7d9-b87fbe34d011"
      },
      "execution_count": null,
      "outputs": [
        {
          "output_type": "display_data",
          "data": {
            "text/plain": [
              "<Figure size 432x288 with 1 Axes>"
            ],
            "image/png": "[encoded data removed]"
          },
          "metadata": {
            "needs_background": "light"
          }
        }
      ]
    },
    {
      "cell_type": "code",
      "source": [
        "#Lastly, let's check if the class variable is balanced\n",
        "#Let's make sure the class variable blueWins is still balanced\n",
        "ax = sns.countplot(x = df_clean.blueWins, label='Count', palette='RdBu')\n",
        "Wins = df_clean.query('blueWins == 1').shape[0]\n",
        "Losses = df_clean.query('blueWins == 0').shape[0]\n",
        "\n",
        "\n",
        "print('Red Wins: {} ({}%), Blue Wins: {}({}%)'.format(Losses,round(100*Losses/(Wins+Losses),3),Wins,round(100*Wins/(Wins+Losses),3)))"
      ],
      "metadata": {
        "colab": {
          "base_uri": "https://localhost:8080/",
          "height": 297
        },
        "id": "FZXE0wamDitk",
        "outputId": "2d7550c2-4458-460f-dcbc-4c839e9edf33"
      },
      "execution_count": null,
      "outputs": [
        {
          "output_type": "stream",
          "name": "stdout",
          "text": [
            "Red Wins: 4750 (50.238%), Blue Wins: 4705(49.762%)\n"
          ]
        },
        {
          "output_type": "display_data",
          "data": {
            "text/plain": [
              "<Figure size 432x288 with 1 Axes>"
            ],
            "image/png": "[encoded data removed]"
          },
          "metadata": {
            "needs_background": "light"
          }
        }
      ]
    },
    {
      "cell_type": "code",
      "source": [
        "#Let's define the X and y variables for our models and use MinMaxScaler for data normalization\n",
        "from sklearn.preprocessing import MinMaxScaler\n",
        "\n",
        "X = df_clean.drop(['blueWins'],axis=1)\n",
        "y = df_clean['blueWins']\n",
        "scaler = MinMaxScaler(feature_range=(-1,1))\n",
        "scaler.fit(X)\n",
        "X = scaler.transform(X)"
      ],
      "metadata": {
        "id": "9LNYD7EdmVaj"
      },
      "execution_count": null,
      "outputs": []
    },
    {
      "cell_type": "code",
      "source": [
        "#Defining scoring metrics\n",
        "scores = ['precision', 'accuracy', 'recall', 'f1']"
      ],
      "metadata": {
        "id": "L7MM8jhOH1Yk"
      },
      "execution_count": null,
      "outputs": []
    },
    {
      "cell_type": "code",
      "source": [
        "#Logistic Regression\n",
        "from sklearn.linear_model import LogisticRegression\n",
        "LR = LogisticRegression(random_state = 0)"
      ],
      "metadata": {
        "id": "KrF0tsSMHV2N"
      },
      "execution_count": null,
      "outputs": []
    },
    {
      "cell_type": "code",
      "source": [
        "LR.fit(X,y)"
      ],
      "metadata": {
        "colab": {
          "base_uri": "https://localhost:8080/"
        },
        "id": "6wMm8Kg5HV43",
        "outputId": "918ac841-5a87-4a0a-b522-8566536fc042"
      },
      "execution_count": null,
      "outputs": [
        {
          "output_type": "execute_result",
          "data": {
            "text/plain": [
              "LogisticRegression(random_state=0)"
            ]
          },
          "metadata": {},
          "execution_count": 32
        }
      ]
    },
    {
      "cell_type": "code",
      "source": [
        "#Cross-validation\n",
        "from sklearn.model_selection import cross_validate\n",
        "LRresults3 = cross_validate(LR, X, y, cv=3, scoring = scores)\n",
        "LRresults5 = cross_validate(LR, X, y, cv=5, scoring = scores)\n",
        "LRresults10 = cross_validate(LR, X, y, cv=10, scoring = scores)"
      ],
      "metadata": {
        "id": "tqH_kL32HV7d"
      },
      "execution_count": null,
      "outputs": []
    },
    {
      "cell_type": "code",
      "source": [
        "MeansLR3 = [np.mean(LRresults3['test_accuracy']), np.mean(LRresults3['test_precision']), np.mean(LRresults3['test_recall']), np.mean(LRresults3['test_f1'])]\n",
        "MeansLR5 = [np.mean(LRresults5['test_accuracy']), np.mean(LRresults5['test_precision']), np.mean(LRresults5['test_recall']), np.mean(LRresults5['test_f1'])]\n",
        "MeansLR10 = [np.mean(LRresults10['test_accuracy']), np.mean(LRresults10['test_precision']), np.mean(LRresults10['test_recall']), np.mean(LRresults10['test_f1'])]"
      ],
      "metadata": {
        "id": "987RxTIlHV99"
      },
      "execution_count": null,
      "outputs": []
    },
    {
      "cell_type": "code",
      "source": [
        "#Random Forest Classifier\n",
        "from sklearn.ensemble import RandomForestClassifier\n",
        "RF = RandomForestClassifier(random_state = 0, n_estimators = 100)"
      ],
      "metadata": {
        "id": "dzR8IMj-HWEs"
      },
      "execution_count": null,
      "outputs": []
    },
    {
      "cell_type": "code",
      "source": [
        "RF.fit(X,y)"
      ],
      "metadata": {
        "colab": {
          "base_uri": "https://localhost:8080/"
        },
        "id": "IyPboQEMHWHb",
        "outputId": "bbe0e7d2-5fb1-4174-f7d5-fe0105d6ad52"
      },
      "execution_count": null,
      "outputs": [
        {
          "output_type": "execute_result",
          "data": {
            "text/plain": [
              "RandomForestClassifier(random_state=0)"
            ]
          },
          "metadata": {},
          "execution_count": 36
        }
      ]
    },
    {
      "cell_type": "code",
      "source": [
        "#Cross-validation\n",
        "RFresults3 = cross_validate(RF, X, y, cv=3, scoring = scores)\n",
        "RFresults5 = cross_validate(RF, X, y, cv=5, scoring = scores)\n",
        "RFresults10 = cross_validate(RF, X, y, cv=10, scoring = scores)"
      ],
      "metadata": {
        "id": "rYnxHvoxHWJt"
      },
      "execution_count": null,
      "outputs": []
    },
    {
      "cell_type": "code",
      "source": [
        "MeansRF3 = [np.mean(RFresults3['test_accuracy']), np.mean(RFresults3['test_precision']), np.mean(RFresults3['test_recall']), np.mean(RFresults3['test_f1'])]\n",
        "MeansRF5 = [np.mean(RFresults5['test_accuracy']), np.mean(RFresults5['test_precision']), np.mean(RFresults5['test_recall']), np.mean(RFresults5['test_f1'])]\n",
        "MeansRF10 = [np.mean(RFresults10['test_accuracy']), np.mean(RFresults10['test_precision']), np.mean(RFresults10['test_recall']), np.mean(RFresults10['test_f1'])]"
      ],
      "metadata": {
        "id": "L3_0hN_UHWMH"
      },
      "execution_count": null,
      "outputs": []
    },
    {
      "cell_type": "code",
      "source": [
        "#k-Nearest Neighbors\n",
        "from sklearn.neighbors import KNeighborsClassifier\n",
        "kNN = KNeighborsClassifier(n_neighbors=101)"
      ],
      "metadata": {
        "id": "Nf7ZvtmAKRuN"
      },
      "execution_count": null,
      "outputs": []
    },
    {
      "cell_type": "code",
      "source": [
        "kNN.fit(X,y)"
      ],
      "metadata": {
        "colab": {
          "base_uri": "https://localhost:8080/"
        },
        "id": "mGPaM2XRKV-0",
        "outputId": "8b8329e0-16bf-41b4-e83c-02355e9754bf"
      },
      "execution_count": null,
      "outputs": [
        {
          "output_type": "execute_result",
          "data": {
            "text/plain": [
              "KNeighborsClassifier(n_neighbors=101)"
            ]
          },
          "metadata": {},
          "execution_count": 40
        }
      ]
    },
    {
      "cell_type": "code",
      "source": [
        "#Cross-validation\n",
        "kNNresults3 = cross_validate(kNN, X, y, cv=3, scoring = scores)\n",
        "kNNresults5 = cross_validate(kNN, X, y, cv=5, scoring = scores)\n",
        "kNNresults10 = cross_validate(kNN, X, y, cv=10, scoring = scores)"
      ],
      "metadata": {
        "id": "fzn26OGDKWBm"
      },
      "execution_count": null,
      "outputs": []
    },
    {
      "cell_type": "code",
      "source": [
        "MeanskNN3 = [np.mean(kNNresults3['test_accuracy']), np.mean(kNNresults3['test_precision']), np.mean(kNNresults3['test_recall']), np.mean(kNNresults3['test_f1'])]\n",
        "MeanskNN5 = [np.mean(kNNresults5['test_accuracy']), np.mean(kNNresults5['test_precision']), np.mean(kNNresults5['test_recall']), np.mean(kNNresults5['test_f1'])]\n",
        "MeanskNN10 = [np.mean(kNNresults10['test_accuracy']), np.mean(kNNresults10['test_precision']), np.mean(kNNresults10['test_recall']), np.mean(kNNresults10['test_f1'])]"
      ],
      "metadata": {
        "id": "RHDejiI4KWEi"
      },
      "execution_count": null,
      "outputs": []
    },
    {
      "cell_type": "code",
      "source": [
        "index = [\"Accuracy Score\", \"Precision Score\", \"Recall Score\", \"F1-Score\"]\n",
        "columns = [\"Logistic Regression\", \"Random Forest\", \"k-Nearest Neighbors\"]"
      ],
      "metadata": {
        "id": "jqHtPhGXIJK5"
      },
      "execution_count": null,
      "outputs": []
    },
    {
      "cell_type": "code",
      "source": [
        "#Let's display the performance scores for k = 3 folds\n",
        "import pandas as pd\n",
        "table3 = pd.DataFrame(data = list(zip(MeansLR3, MeansRF3, MeanskNN3)),\n",
        "                  index = index, \n",
        "                  columns = columns)\n",
        "table3.columns.name = 'k = 3 folds'"
      ],
      "metadata": {
        "id": "hPJB2MxfHWTu"
      },
      "execution_count": null,
      "outputs": []
    },
    {
      "cell_type": "code",
      "source": [
        "display(table3)"
      ],
      "metadata": {
        "colab": {
          "base_uri": "https://localhost:8080/",
          "height": 174
        },
        "id": "_zTSjwbpLHRO",
        "outputId": "c4f8cb52-36ab-4b83-c1e7-d03466a8bd5e"
      },
      "execution_count": null,
      "outputs": [
        {
          "output_type": "display_data",
          "data": {
            "text/plain": [
              "k = 3 folds      Logistic Regression  Random Forest  k-Nearest Neighbors\n",
              "Accuracy Score              0.729562       0.716447             0.714966\n",
              "Precision Score             0.728114       0.720651             0.712405\n",
              "Recall Score                0.728589       0.702445             0.716472\n",
              "F1-Score                    0.728322       0.711386             0.714419"
            ],
            "text/html": [
              "\n",
              "  <div id=\"df-d4ed19f2-5546-445b-a97d-d8331adc7c6f\">\n",
              "    <div class=\"colab-df-container\">\n",
              "      <div>\n",
              "<style scoped>\n",
              "    .dataframe tbody tr th:only-of-type {\n",
              "        vertical-align: middle;\n",
              "    }\n",
              "\n",
              "    .dataframe tbody tr th {\n",
              "        vertical-align: top;\n",
              "    }\n",
              "\n",
              "    .dataframe thead th {\n",
              "        text-align: right;\n",
              "    }\n",
              "</style>\n",
              "<table border=\"1\" class=\"dataframe\">\n",
              "  <thead>\n",
              "    <tr style=\"text-align: right;\">\n",
              "      <th>k = 3 folds</th>\n",
              "      <th>Logistic Regression</th>\n",
              "      <th>Random Forest</th>\n",
              "      <th>k-Nearest Neighbors</th>\n",
              "    </tr>\n",
              "  </thead>\n",
              "  <tbody>\n",
              "    <tr>\n",
              "      <th>Accuracy Score</th>\n",
              "      <td>0.729562</td>\n",
              "      <td>0.716447</td>\n",
              "      <td>0.714966</td>\n",
              "    </tr>\n",
              "    <tr>\n",
              "      <th>Precision Score</th>\n",
              "      <td>0.728114</td>\n",
              "      <td>0.720651</td>\n",
              "      <td>0.712405</td>\n",
              "    </tr>\n",
              "    <tr>\n",
              "      <th>Recall Score</th>\n",
              "      <td>0.728589</td>\n",
              "      <td>0.702445</td>\n",
              "      <td>0.716472</td>\n",
              "    </tr>\n",
              "    <tr>\n",
              "      <th>F1-Score</th>\n",
              "      <td>0.728322</td>\n",
              "      <td>0.711386</td>\n",
              "      <td>0.714419</td>\n",
              "    </tr>\n",
              "  </tbody>\n",
              "</table>\n",
              "</div>\n",
              "      <button class=\"colab-df-convert\" onclick=\"convertToInteractive('df-d4ed19f2-5546-445b-a97d-d8331adc7c6f')\"\n",
              "              title=\"Convert this dataframe to an interactive table.\"\n",
              "              style=\"display:none;\">\n",
              "        \n",
              "  <svg xmlns=\"http://www.w3.org/2000/svg\" height=\"24px\"viewBox=\"0 0 24 24\"\n",
              "       width=\"24px\">\n",
              "    <path d=\"M0 0h24v24H0V0z\" fill=\"none\"/>\n",
              "    <path d=\"M18.56 5.44l.94 2.06.94-2.06 2.06-.94-2.06-.94-.94-2.06-.94 2.06-2.06.94zm-11 1L8.5 8.5l.94-2.06 2.06-.94-2.06-.94L8.5 2.5l-.94 2.06-2.06.94zm10 10l.94 2.06.94-2.06 2.06-.94-2.06-.94-.94-2.06-.94 2.06-2.06.94z\"/><path d=\"M17.41 7.96l-1.37-1.37c-.4-.4-.92-.59-1.43-.59-.52 0-1.04.2-1.43.59L10.3 9.45l-7.72 7.72c-.78.78-.78 2.05 0 2.83L4 21.41c.39.39.9.59 1.41.59.51 0 1.02-.2 1.41-.59l7.78-7.78 2.81-2.81c.8-.78.8-2.07 0-2.86zM5.41 20L4 18.59l7.72-7.72 1.47 1.35L5.41 20z\"/>\n",
              "  </svg>\n",
              "      </button>\n",
              "      \n",
              "  <style>\n",
              "    .colab-df-container {\n",
              "      display:flex;\n",
              "      flex-wrap:wrap;\n",
              "      gap: 12px;\n",
              "    }\n",
              "\n",
              "    .colab-df-convert {\n",
              "      background-color: #E8F0FE;\n",
              "      border: none;\n",
              "      border-radius: 50%;\n",
              "      cursor: pointer;\n",
              "      display: none;\n",
              "      fill: #1967D2;\n",
              "      height: 32px;\n",
              "      padding: 0 0 0 0;\n",
              "      width: 32px;\n",
              "    }\n",
              "\n",
              "    .colab-df-convert:hover {\n",
              "      background-color: #E2EBFA;\n",
              "      box-shadow: 0px 1px 2px rgba(60, 64, 67, 0.3), 0px 1px 3px 1px rgba(60, 64, 67, 0.15);\n",
              "      fill: #174EA6;\n",
              "    }\n",
              "\n",
              "    [theme=dark] .colab-df-convert {\n",
              "      background-color: #3B4455;\n",
              "      fill: #D2E3FC;\n",
              "    }\n",
              "\n",
              "    [theme=dark] .colab-df-convert:hover {\n",
              "      background-color: #434B5C;\n",
              "      box-shadow: 0px 1px 3px 1px rgba(0, 0, 0, 0.15);\n",
              "      filter: drop-shadow(0px 1px 2px rgba(0, 0, 0, 0.3));\n",
              "      fill: #FFFFFF;\n",
              "    }\n",
              "  </style>\n",
              "\n",
              "      <script>\n",
              "        const buttonEl =\n",
              "          document.querySelector('#df-d4ed19f2-5546-445b-a97d-d8331adc7c6f button.colab-df-convert');\n",
              "        buttonEl.style.display =\n",
              "          google.colab.kernel.accessAllowed ? 'block' : 'none';\n",
              "\n",
              "        async function convertToInteractive(key) {\n",
              "          const element = document.querySelector('#df-d4ed19f2-5546-445b-a97d-d8331adc7c6f');\n",
              "          const dataTable =\n",
              "            await google.colab.kernel.invokeFunction('convertToInteractive',\n",
              "                                                     [key], {});\n",
              "          if (!dataTable) return;\n",
              "\n",
              "          const docLinkHtml = 'Like what you see? Visit the ' +\n",
              "            '<a target=\"_blank\" href=https://colab.research.google.com/notebooks/data_table.ipynb>data table notebook</a>'\n",
              "            + ' to learn more about interactive tables.';\n",
              "          element.innerHTML = '';\n",
              "          dataTable['output_type'] = 'display_data';\n",
              "          await google.colab.output.renderOutput(dataTable, element);\n",
              "          const docLink = document.createElement('div');\n",
              "          docLink.innerHTML = docLinkHtml;\n",
              "          element.appendChild(docLink);\n",
              "        }\n",
              "      </script>\n",
              "    </div>\n",
              "  </div>\n",
              "  "
            ]
          },
          "metadata": {}
        }
      ]
    },
    {
      "cell_type": "code",
      "source": [
        "#Let's display the performance scores for k = 5 folds\n",
        "import pandas as pd\n",
        "table5 = pd.DataFrame(data = list(zip(MeansLR5, MeansRF5, MeanskNN5)),\n",
        "                  index = index, \n",
        "                  columns = columns)\n",
        "table5.columns.name = 'k = 5 folds'\n"
      ],
      "metadata": {
        "id": "pZYYfasLLHT0"
      },
      "execution_count": null,
      "outputs": []
    },
    {
      "cell_type": "code",
      "source": [
        "display(table5)"
      ],
      "metadata": {
        "colab": {
          "base_uri": "https://localhost:8080/",
          "height": 174
        },
        "id": "3d9gfAkQLHWy",
        "outputId": "5f105e9c-31ba-41f0-80ed-3478d6bfc31b"
      },
      "execution_count": null,
      "outputs": [
        {
          "output_type": "display_data",
          "data": {
            "text/plain": [
              "k = 5 folds      Logistic Regression  Random Forest  k-Nearest Neighbors\n",
              "Accuracy Score              0.729561       0.716975             0.713908\n",
              "Precision Score             0.728575       0.722051             0.710760\n",
              "Recall Score                0.727949       0.701169             0.716897\n",
              "F1-Score                    0.728193       0.711389             0.713726"
            ],
            "text/html": [
              "\n",
              "  <div id=\"df-b3a880a6-0763-44fb-b788-9824022da2e4\">\n",
              "    <div class=\"colab-df-container\">\n",
              "      <div>\n",
              "<style scoped>\n",
              "    .dataframe tbody tr th:only-of-type {\n",
              "        vertical-align: middle;\n",
              "    }\n",
              "\n",
              "    .dataframe tbody tr th {\n",
              "        vertical-align: top;\n",
              "    }\n",
              "\n",
              "    .dataframe thead th {\n",
              "        text-align: right;\n",
              "    }\n",
              "</style>\n",
              "<table border=\"1\" class=\"dataframe\">\n",
              "  <thead>\n",
              "    <tr style=\"text-align: right;\">\n",
              "      <th>k = 5 folds</th>\n",
              "      <th>Logistic Regression</th>\n",
              "      <th>Random Forest</th>\n",
              "      <th>k-Nearest Neighbors</th>\n",
              "    </tr>\n",
              "  </thead>\n",
              "  <tbody>\n",
              "    <tr>\n",
              "      <th>Accuracy Score</th>\n",
              "      <td>0.729561</td>\n",
              "      <td>0.716975</td>\n",
              "      <td>0.713908</td>\n",
              "    </tr>\n",
              "    <tr>\n",
              "      <th>Precision Score</th>\n",
              "      <td>0.728575</td>\n",
              "      <td>0.722051</td>\n",
              "      <td>0.710760</td>\n",
              "    </tr>\n",
              "    <tr>\n",
              "      <th>Recall Score</th>\n",
              "      <td>0.727949</td>\n",
              "      <td>0.701169</td>\n",
              "      <td>0.716897</td>\n",
              "    </tr>\n",
              "    <tr>\n",
              "      <th>F1-Score</th>\n",
              "      <td>0.728193</td>\n",
              "      <td>0.711389</td>\n",
              "      <td>0.713726</td>\n",
              "    </tr>\n",
              "  </tbody>\n",
              "</table>\n",
              "</div>\n",
              "      <button class=\"colab-df-convert\" onclick=\"convertToInteractive('df-b3a880a6-0763-44fb-b788-9824022da2e4')\"\n",
              "              title=\"Convert this dataframe to an interactive table.\"\n",
              "              style=\"display:none;\">\n",
              "        \n",
              "  <svg xmlns=\"http://www.w3.org/2000/svg\" height=\"24px\"viewBox=\"0 0 24 24\"\n",
              "       width=\"24px\">\n",
              "    <path d=\"M0 0h24v24H0V0z\" fill=\"none\"/>\n",
              "    <path d=\"M18.56 5.44l.94 2.06.94-2.06 2.06-.94-2.06-.94-.94-2.06-.94 2.06-2.06.94zm-11 1L8.5 8.5l.94-2.06 2.06-.94-2.06-.94L8.5 2.5l-.94 2.06-2.06.94zm10 10l.94 2.06.94-2.06 2.06-.94-2.06-.94-.94-2.06-.94 2.06-2.06.94z\"/><path d=\"M17.41 7.96l-1.37-1.37c-.4-.4-.92-.59-1.43-.59-.52 0-1.04.2-1.43.59L10.3 9.45l-7.72 7.72c-.78.78-.78 2.05 0 2.83L4 21.41c.39.39.9.59 1.41.59.51 0 1.02-.2 1.41-.59l7.78-7.78 2.81-2.81c.8-.78.8-2.07 0-2.86zM5.41 20L4 18.59l7.72-7.72 1.47 1.35L5.41 20z\"/>\n",
              "  </svg>\n",
              "      </button>\n",
              "      \n",
              "  <style>\n",
              "    .colab-df-container {\n",
              "      display:flex;\n",
              "      flex-wrap:wrap;\n",
              "      gap: 12px;\n",
              "    }\n",
              "\n",
              "    .colab-df-convert {\n",
              "      background-color: #E8F0FE;\n",
              "      border: none;\n",
              "      border-radius: 50%;\n",
              "      cursor: pointer;\n",
              "      display: none;\n",
              "      fill: #1967D2;\n",
              "      height: 32px;\n",
              "      padding: 0 0 0 0;\n",
              "      width: 32px;\n",
              "    }\n",
              "\n",
              "    .colab-df-convert:hover {\n",
              "      background-color: #E2EBFA;\n",
              "      box-shadow: 0px 1px 2px rgba(60, 64, 67, 0.3), 0px 1px 3px 1px rgba(60, 64, 67, 0.15);\n",
              "      fill: #174EA6;\n",
              "    }\n",
              "\n",
              "    [theme=dark] .colab-df-convert {\n",
              "      background-color: #3B4455;\n",
              "      fill: #D2E3FC;\n",
              "    }\n",
              "\n",
              "    [theme=dark] .colab-df-convert:hover {\n",
              "      background-color: #434B5C;\n",
              "      box-shadow: 0px 1px 3px 1px rgba(0, 0, 0, 0.15);\n",
              "      filter: drop-shadow(0px 1px 2px rgba(0, 0, 0, 0.3));\n",
              "      fill: #FFFFFF;\n",
              "    }\n",
              "  </style>\n",
              "\n",
              "      <script>\n",
              "        const buttonEl =\n",
              "          document.querySelector('#df-b3a880a6-0763-44fb-b788-9824022da2e4 button.colab-df-convert');\n",
              "        buttonEl.style.display =\n",
              "          google.colab.kernel.accessAllowed ? 'block' : 'none';\n",
              "\n",
              "        async function convertToInteractive(key) {\n",
              "          const element = document.querySelector('#df-b3a880a6-0763-44fb-b788-9824022da2e4');\n",
              "          const dataTable =\n",
              "            await google.colab.kernel.invokeFunction('convertToInteractive',\n",
              "                                                     [key], {});\n",
              "          if (!dataTable) return;\n",
              "\n",
              "          const docLinkHtml = 'Like what you see? Visit the ' +\n",
              "            '<a target=\"_blank\" href=https://colab.research.google.com/notebooks/data_table.ipynb>data table notebook</a>'\n",
              "            + ' to learn more about interactive tables.';\n",
              "          element.innerHTML = '';\n",
              "          dataTable['output_type'] = 'display_data';\n",
              "          await google.colab.output.renderOutput(dataTable, element);\n",
              "          const docLink = document.createElement('div');\n",
              "          docLink.innerHTML = docLinkHtml;\n",
              "          element.appendChild(docLink);\n",
              "        }\n",
              "      </script>\n",
              "    </div>\n",
              "  </div>\n",
              "  "
            ]
          },
          "metadata": {}
        }
      ]
    },
    {
      "cell_type": "code",
      "source": [
        "#Let's display the performance scores for k = 10 folds\n",
        "import pandas as pd\n",
        "table10 = pd.DataFrame(data = list(zip(MeansLR10, MeansRF10, MeanskNN10)),\n",
        "                  index = index, \n",
        "                  columns = columns)\n",
        "table10.columns.name = 'k = 10 folds'\n"
      ],
      "metadata": {
        "id": "Ut_-cMrdLHY9"
      },
      "execution_count": null,
      "outputs": []
    },
    {
      "cell_type": "code",
      "source": [
        "display(table10)"
      ],
      "metadata": {
        "colab": {
          "base_uri": "https://localhost:8080/",
          "height": 174
        },
        "id": "TeGyur5GLHbo",
        "outputId": "d9515747-cace-4019-81ed-2813cf60ca33"
      },
      "execution_count": null,
      "outputs": [
        {
          "output_type": "display_data",
          "data": {
            "text/plain": [
              "k = 10 folds     Logistic Regression  Random Forest  k-Nearest Neighbors\n",
              "Accuracy Score              0.729560       0.712113             0.716339\n",
              "Precision Score             0.728061       0.714165             0.711868\n",
              "Recall Score                0.729231       0.703094             0.722638\n",
              "F1-Score                    0.728499       0.708488             0.717073"
            ],
            "text/html": [
              "\n",
              "  <div id=\"df-69f0cdfe-e5e9-4498-a116-96122568f4b6\">\n",
              "    <div class=\"colab-df-container\">\n",
              "      <div>\n",
              "<style scoped>\n",
              "    .dataframe tbody tr th:only-of-type {\n",
              "        vertical-align: middle;\n",
              "    }\n",
              "\n",
              "    .dataframe tbody tr th {\n",
              "        vertical-align: top;\n",
              "    }\n",
              "\n",
              "    .dataframe thead th {\n",
              "        text-align: right;\n",
              "    }\n",
              "</style>\n",
              "<table border=\"1\" class=\"dataframe\">\n",
              "  <thead>\n",
              "    <tr style=\"text-align: right;\">\n",
              "      <th>k = 10 folds</th>\n",
              "      <th>Logistic Regression</th>\n",
              "      <th>Random Forest</th>\n",
              "      <th>k-Nearest Neighbors</th>\n",
              "    </tr>\n",
              "  </thead>\n",
              "  <tbody>\n",
              "    <tr>\n",
              "      <th>Accuracy Score</th>\n",
              "      <td>0.729560</td>\n",
              "      <td>0.712113</td>\n",
              "      <td>0.716339</td>\n",
              "    </tr>\n",
              "    <tr>\n",
              "      <th>Precision Score</th>\n",
              "      <td>0.728061</td>\n",
              "      <td>0.714165</td>\n",
              "      <td>0.711868</td>\n",
              "    </tr>\n",
              "    <tr>\n",
              "      <th>Recall Score</th>\n",
              "      <td>0.729231</td>\n",
              "      <td>0.703094</td>\n",
              "      <td>0.722638</td>\n",
              "    </tr>\n",
              "    <tr>\n",
              "      <th>F1-Score</th>\n",
              "      <td>0.728499</td>\n",
              "      <td>0.708488</td>\n",
              "      <td>0.717073</td>\n",
              "    </tr>\n",
              "  </tbody>\n",
              "</table>\n",
              "</div>\n",
              "      <button class=\"colab-df-convert\" onclick=\"convertToInteractive('df-69f0cdfe-e5e9-4498-a116-96122568f4b6')\"\n",
              "              title=\"Convert this dataframe to an interactive table.\"\n",
              "              style=\"display:none;\">\n",
              "        \n",
              "  <svg xmlns=\"http://www.w3.org/2000/svg\" height=\"24px\"viewBox=\"0 0 24 24\"\n",
              "       width=\"24px\">\n",
              "    <path d=\"M0 0h24v24H0V0z\" fill=\"none\"/>\n",
              "    <path d=\"M18.56 5.44l.94 2.06.94-2.06 2.06-.94-2.06-.94-.94-2.06-.94 2.06-2.06.94zm-11 1L8.5 8.5l.94-2.06 2.06-.94-2.06-.94L8.5 2.5l-.94 2.06-2.06.94zm10 10l.94 2.06.94-2.06 2.06-.94-2.06-.94-.94-2.06-.94 2.06-2.06.94z\"/><path d=\"M17.41 7.96l-1.37-1.37c-.4-.4-.92-.59-1.43-.59-.52 0-1.04.2-1.43.59L10.3 9.45l-7.72 7.72c-.78.78-.78 2.05 0 2.83L4 21.41c.39.39.9.59 1.41.59.51 0 1.02-.2 1.41-.59l7.78-7.78 2.81-2.81c.8-.78.8-2.07 0-2.86zM5.41 20L4 18.59l7.72-7.72 1.47 1.35L5.41 20z\"/>\n",
              "  </svg>\n",
              "      </button>\n",
              "      \n",
              "  <style>\n",
              "    .colab-df-container {\n",
              "      display:flex;\n",
              "      flex-wrap:wrap;\n",
              "      gap: 12px;\n",
              "    }\n",
              "\n",
              "    .colab-df-convert {\n",
              "      background-color: #E8F0FE;\n",
              "      border: none;\n",
              "      border-radius: 50%;\n",
              "      cursor: pointer;\n",
              "      display: none;\n",
              "      fill: #1967D2;\n",
              "      height: 32px;\n",
              "      padding: 0 0 0 0;\n",
              "      width: 32px;\n",
              "    }\n",
              "\n",
              "    .colab-df-convert:hover {\n",
              "      background-color: #E2EBFA;\n",
              "      box-shadow: 0px 1px 2px rgba(60, 64, 67, 0.3), 0px 1px 3px 1px rgba(60, 64, 67, 0.15);\n",
              "      fill: #174EA6;\n",
              "    }\n",
              "\n",
              "    [theme=dark] .colab-df-convert {\n",
              "      background-color: #3B4455;\n",
              "      fill: #D2E3FC;\n",
              "    }\n",
              "\n",
              "    [theme=dark] .colab-df-convert:hover {\n",
              "      background-color: #434B5C;\n",
              "      box-shadow: 0px 1px 3px 1px rgba(0, 0, 0, 0.15);\n",
              "      filter: drop-shadow(0px 1px 2px rgba(0, 0, 0, 0.3));\n",
              "      fill: #FFFFFF;\n",
              "    }\n",
              "  </style>\n",
              "\n",
              "      <script>\n",
              "        const buttonEl =\n",
              "          document.querySelector('#df-69f0cdfe-e5e9-4498-a116-96122568f4b6 button.colab-df-convert');\n",
              "        buttonEl.style.display =\n",
              "          google.colab.kernel.accessAllowed ? 'block' : 'none';\n",
              "\n",
              "        async function convertToInteractive(key) {\n",
              "          const element = document.querySelector('#df-69f0cdfe-e5e9-4498-a116-96122568f4b6');\n",
              "          const dataTable =\n",
              "            await google.colab.kernel.invokeFunction('convertToInteractive',\n",
              "                                                     [key], {});\n",
              "          if (!dataTable) return;\n",
              "\n",
              "          const docLinkHtml = 'Like what you see? Visit the ' +\n",
              "            '<a target=\"_blank\" href=https://colab.research.google.com/notebooks/data_table.ipynb>data table notebook</a>'\n",
              "            + ' to learn more about interactive tables.';\n",
              "          element.innerHTML = '';\n",
              "          dataTable['output_type'] = 'display_data';\n",
              "          await google.colab.output.renderOutput(dataTable, element);\n",
              "          const docLink = document.createElement('div');\n",
              "          docLink.innerHTML = docLinkHtml;\n",
              "          element.appendChild(docLink);\n",
              "        }\n",
              "      </script>\n",
              "    </div>\n",
              "  </div>\n",
              "  "
            ]
          },
          "metadata": {}
        }
      ]
    },
    {
      "cell_type": "code",
      "source": [
        "#Let's plot the coefficients for the LR model\n",
        "featureNames = ['blueFirstBlood', 'wardsPlacedDiff', 'wardsDestroyedDiff', 'killsDiff', 'assistsDiff', 'dragonDiff', 'heraldDiff', 'towersDestroyedDiff', 'totalGoldDiff', 'totalExperienceDiff', 'totalMinionsKilledDiff', 'totalJungleMinionsKilledDiff']\n",
        "\n",
        "coefs = np.array(LR.coef_).tolist()\n",
        "Coefficients = np.squeeze(coefs)\n",
        "\n",
        "plt.barh(featureNames, Coefficients)\n",
        "plt.title('Feature coefficients', fontsize=10)"
      ],
      "metadata": {
        "id": "R9cCOdX8LHeA",
        "colab": {
          "base_uri": "https://localhost:8080/",
          "height": 297
        },
        "outputId": "776c3aee-c3ad-4700-e107-290e2a483028"
      },
      "execution_count": null,
      "outputs": [
        {
          "output_type": "execute_result",
          "data": {
            "text/plain": [
              "Text(0.5, 1.0, 'Feature coefficients')"
            ]
          },
          "metadata": {},
          "execution_count": 50
        },
        {
          "output_type": "display_data",
          "data": {
            "text/plain": [
              "<Figure size 432x288 with 1 Axes>"
            ],
            "image/png": "[encoded data removed]"
          },
          "metadata": {
            "needs_background": "light"
          }
        }
      ]
    },
    {
      "cell_type": "code",
      "source": [
        "#Sadly scikit learn does not offer more information regarding the coefficients. \n",
        "#An alternative is to re-create the model as accurately as possible using statsmodel library which does offer additional statistics\n",
        "import statsmodels.api as sm\n",
        "import statsmodels.formula.api as smf\n",
        "\n",
        "X_ = sm.add_constant(X)\n",
        "\n",
        "smLR = sm.Logit(y, X_).fit(method=\"ncg\")\n",
        "\n",
        "smLR.summary()"
      ],
      "metadata": {
        "id": "ASa2qlqTLHgE",
        "colab": {
          "base_uri": "https://localhost:8080/",
          "height": 613
        },
        "outputId": "bccf9ea7-932d-4464-f56b-b31c61edd0e0"
      },
      "execution_count": null,
      "outputs": [
        {
          "output_type": "stream",
          "name": "stderr",
          "text": [
            "/usr/local/lib/python3.7/dist-packages/statsmodels/tools/_testing.py:19: FutureWarning: pandas.util.testing is deprecated. Use the functions in the public API at pandas.testing instead.\n",
            "  import pandas.util.testing as tm\n"
          ]
        },
        {
          "output_type": "stream",
          "name": "stdout",
          "text": [
            "Optimization terminated successfully.\n",
            "         Current function value: 0.532866\n",
            "         Iterations: 7\n",
            "         Function evaluations: 8\n",
            "         Gradient evaluations: 14\n",
            "         Hessian evaluations: 7\n"
          ]
        },
        {
          "output_type": "execute_result",
          "data": {
            "text/plain": [
              "<class 'statsmodels.iolib.summary.Summary'>\n",
              "\"\"\"\n",
              "                           Logit Regression Results                           \n",
              "==============================================================================\n",
              "Dep. Variable:               blueWins   No. Observations:                 9455\n",
              "Model:                          Logit   Df Residuals:                     9442\n",
              "Method:                           MLE   Df Model:                           12\n",
              "Date:                Mon, 04 Apr 2022   Pseudo R-squ.:                  0.2312\n",
              "Time:                        19:39:14   Log-Likelihood:                -5038.2\n",
              "converged:                       True   LL-Null:                       -6553.6\n",
              "Covariance Type:            nonrobust   LLR p-value:                     0.000\n",
              "==============================================================================\n",
              "                 coef    std err          z      P>|z|      [0.025      0.975]\n",
              "------------------------------------------------------------------------------\n",
              "const         -0.1090      0.027     -4.020      0.000      -0.162      -0.056\n",
              "x1             0.0401      0.027      1.506      0.132      -0.012       0.092\n",
              "x2            -0.0446      0.109     -0.409      0.682      -0.259       0.169\n",
              "x3            -0.0414      0.201     -0.206      0.836      -0.435       0.352\n",
              "x4            -0.3667      0.292     -1.257      0.209      -0.939       0.205\n",
              "x5            -0.3552      0.188     -1.886      0.059      -0.724       0.014\n",
              "x6             0.3180      0.029     10.961      0.000       0.261       0.375\n",
              "x7             0.0491      0.043      1.137      0.256      -0.036       0.134\n",
              "x8            -0.3431      0.118     -2.903      0.004      -0.575      -0.111\n",
              "x9             4.3332      0.421     10.304      0.000       3.509       5.157\n",
              "x10            1.9600      0.283      6.916      0.000       1.405       2.515\n",
              "x11           -0.5425      0.168     -3.235      0.001      -0.871      -0.214\n",
              "x12           -0.0936      0.148     -0.634      0.526      -0.383       0.196\n",
              "==============================================================================\n",
              "\"\"\""
            ],
            "text/html": [
              "<table class=\"simpletable\">\n",
              "<caption>Logit Regression Results</caption>\n",
              "<tr>\n",
              "  <th>Dep. Variable:</th>       <td>blueWins</td>     <th>  No. Observations:  </th>  <td>  9455</td> \n",
              "</tr>\n",
              "<tr>\n",
              "  <th>Model:</th>                 <td>Logit</td>      <th>  Df Residuals:      </th>  <td>  9442</td> \n",
              "</tr>\n",
              "<tr>\n",
              "  <th>Method:</th>                 <td>MLE</td>       <th>  Df Model:          </th>  <td>    12</td> \n",
              "</tr>\n",
              "<tr>\n",
              "  <th>Date:</th>            <td>Mon, 04 Apr 2022</td> <th>  Pseudo R-squ.:     </th>  <td>0.2312</td> \n",
              "</tr>\n",
              "<tr>\n",
              "  <th>Time:</th>                <td>19:39:14</td>     <th>  Log-Likelihood:    </th> <td> -5038.2</td>\n",
              "</tr>\n",
              "<tr>\n",
              "  <th>converged:</th>             <td>True</td>       <th>  LL-Null:           </th> <td> -6553.6</td>\n",
              "</tr>\n",
              "<tr>\n",
              "  <th>Covariance Type:</th>     <td>nonrobust</td>    <th>  LLR p-value:       </th>  <td> 0.000</td> \n",
              "</tr>\n",
              "</table>\n",
              "<table class=\"simpletable\">\n",
              "<tr>\n",
              "    <td></td>       <th>coef</th>     <th>std err</th>      <th>z</th>      <th>P>|z|</th>  <th>[0.025</th>    <th>0.975]</th>  \n",
              "</tr>\n",
              "<tr>\n",
              "  <th>const</th> <td>   -0.1090</td> <td>    0.027</td> <td>   -4.020</td> <td> 0.000</td> <td>   -0.162</td> <td>   -0.056</td>\n",
              "</tr>\n",
              "<tr>\n",
              "  <th>x1</th>    <td>    0.0401</td> <td>    0.027</td> <td>    1.506</td> <td> 0.132</td> <td>   -0.012</td> <td>    0.092</td>\n",
              "</tr>\n",
              "<tr>\n",
              "  <th>x2</th>    <td>   -0.0446</td> <td>    0.109</td> <td>   -0.409</td> <td> 0.682</td> <td>   -0.259</td> <td>    0.169</td>\n",
              "</tr>\n",
              "<tr>\n",
              "  <th>x3</th>    <td>   -0.0414</td> <td>    0.201</td> <td>   -0.206</td> <td> 0.836</td> <td>   -0.435</td> <td>    0.352</td>\n",
              "</tr>\n",
              "<tr>\n",
              "  <th>x4</th>    <td>   -0.3667</td> <td>    0.292</td> <td>   -1.257</td> <td> 0.209</td> <td>   -0.939</td> <td>    0.205</td>\n",
              "</tr>\n",
              "<tr>\n",
              "  <th>x5</th>    <td>   -0.3552</td> <td>    0.188</td> <td>   -1.886</td> <td> 0.059</td> <td>   -0.724</td> <td>    0.014</td>\n",
              "</tr>\n",
              "<tr>\n",
              "  <th>x6</th>    <td>    0.3180</td> <td>    0.029</td> <td>   10.961</td> <td> 0.000</td> <td>    0.261</td> <td>    0.375</td>\n",
              "</tr>\n",
              "<tr>\n",
              "  <th>x7</th>    <td>    0.0491</td> <td>    0.043</td> <td>    1.137</td> <td> 0.256</td> <td>   -0.036</td> <td>    0.134</td>\n",
              "</tr>\n",
              "<tr>\n",
              "  <th>x8</th>    <td>   -0.3431</td> <td>    0.118</td> <td>   -2.903</td> <td> 0.004</td> <td>   -0.575</td> <td>   -0.111</td>\n",
              "</tr>\n",
              "<tr>\n",
              "  <th>x9</th>    <td>    4.3332</td> <td>    0.421</td> <td>   10.304</td> <td> 0.000</td> <td>    3.509</td> <td>    5.157</td>\n",
              "</tr>\n",
              "<tr>\n",
              "  <th>x10</th>   <td>    1.9600</td> <td>    0.283</td> <td>    6.916</td> <td> 0.000</td> <td>    1.405</td> <td>    2.515</td>\n",
              "</tr>\n",
              "<tr>\n",
              "  <th>x11</th>   <td>   -0.5425</td> <td>    0.168</td> <td>   -3.235</td> <td> 0.001</td> <td>   -0.871</td> <td>   -0.214</td>\n",
              "</tr>\n",
              "<tr>\n",
              "  <th>x12</th>   <td>   -0.0936</td> <td>    0.148</td> <td>   -0.634</td> <td> 0.526</td> <td>   -0.383</td> <td>    0.196</td>\n",
              "</tr>\n",
              "</table>"
            ]
          },
          "metadata": {},
          "execution_count": 51
        }
      ]
    },
    {
      "cell_type": "code",
      "source": [
        "#Gold and experience are the most important attributes. In the context of LoL, this doesn't mean much at all (see project report)\n",
        "#Let's re-run the models without these attributes now."
      ],
      "metadata": {
        "id": "oSHNqSa3z-ul"
      },
      "execution_count": null,
      "outputs": []
    },
    {
      "cell_type": "code",
      "source": [
        "df_features = df_clean\n",
        "df_features = df_features.drop(['totalGoldDiff','totalExperienceDiff'], axis=1)"
      ],
      "metadata": {
        "id": "jvWcKtVZz-0q"
      },
      "execution_count": null,
      "outputs": []
    },
    {
      "cell_type": "code",
      "source": [
        "from sklearn.preprocessing import MinMaxScaler\n",
        "\n",
        "Xfeatures = df_features.drop(['blueWins'],axis=1)\n",
        "yfeatures = df_features['blueWins']\n",
        "scaler = MinMaxScaler(feature_range=(-1,1))\n",
        "scaler.fit(Xfeatures)\n",
        "Xfeatures = scaler.transform(Xfeatures)\n",
        "\n",
        "LR2 = LogisticRegression(random_state = 0)\n",
        "LR2.fit(Xfeatures, yfeatures)"
      ],
      "metadata": {
        "colab": {
          "base_uri": "https://localhost:8080/"
        },
        "id": "MBakywsr6nrs",
        "outputId": "c956e6af-2953-4f76-e427-aaae617d33d9"
      },
      "execution_count": null,
      "outputs": [
        {
          "output_type": "execute_result",
          "data": {
            "text/plain": [
              "LogisticRegression(random_state=0)"
            ]
          },
          "metadata": {},
          "execution_count": 54
        }
      ]
    },
    {
      "cell_type": "code",
      "source": [
        "LRfeatures = cross_validate(LR2, Xfeatures, yfeatures, cv=3, scoring = scores)\n",
        "MeansLRfeatures = [np.mean(LRfeatures['test_accuracy']), np.mean(LRfeatures['test_precision']), np.mean(LRfeatures['test_recall']), np.mean(LRfeatures['test_f1'])]\n",
        "\n",
        "import pandas as pd\n",
        "tablefeatures = pd.DataFrame(data = list(zip(MeansLRfeatures)),\n",
        "                  index = index, \n",
        "                  columns = ['LogisticRegression without gold and experience attributes'])\n",
        "tablefeatures.columns.name = 'k = 3 folds'\n",
        "tablefeatures"
      ],
      "metadata": {
        "colab": {
          "base_uri": "https://localhost:8080/",
          "height": 174
        },
        "id": "rXJIFp1C6ntz",
        "outputId": "47b39b69-c135-43e6-c9b2-109837e2c275"
      },
      "execution_count": null,
      "outputs": [
        {
          "output_type": "execute_result",
          "data": {
            "text/plain": [
              "k = 3 folds      LogisticRegression without gold and experience attributes\n",
              "Accuracy Score                                            0.718561        \n",
              "Precision Score                                           0.717596        \n",
              "Recall Score                                              0.716473        \n",
              "F1-Score                                                  0.716998        "
            ],
            "text/html": [
              "\n",
              "  <div id=\"df-d6b22737-ee96-4072-9058-df6b592bec53\">\n",
              "    <div class=\"colab-df-container\">\n",
              "      <div>\n",
              "<style scoped>\n",
              "    .dataframe tbody tr th:only-of-type {\n",
              "        vertical-align: middle;\n",
              "    }\n",
              "\n",
              "    .dataframe tbody tr th {\n",
              "        vertical-align: top;\n",
              "    }\n",
              "\n",
              "    .dataframe thead th {\n",
              "        text-align: right;\n",
              "    }\n",
              "</style>\n",
              "<table border=\"1\" class=\"dataframe\">\n",
              "  <thead>\n",
              "    <tr style=\"text-align: right;\">\n",
              "      <th>k = 3 folds</th>\n",
              "      <th>LogisticRegression without gold and experience attributes</th>\n",
              "    </tr>\n",
              "  </thead>\n",
              "  <tbody>\n",
              "    <tr>\n",
              "      <th>Accuracy Score</th>\n",
              "      <td>0.718561</td>\n",
              "    </tr>\n",
              "    <tr>\n",
              "      <th>Precision Score</th>\n",
              "      <td>0.717596</td>\n",
              "    </tr>\n",
              "    <tr>\n",
              "      <th>Recall Score</th>\n",
              "      <td>0.716473</td>\n",
              "    </tr>\n",
              "    <tr>\n",
              "      <th>F1-Score</th>\n",
              "      <td>0.716998</td>\n",
              "    </tr>\n",
              "  </tbody>\n",
              "</table>\n",
              "</div>\n",
              "      <button class=\"colab-df-convert\" onclick=\"convertToInteractive('df-d6b22737-ee96-4072-9058-df6b592bec53')\"\n",
              "              title=\"Convert this dataframe to an interactive table.\"\n",
              "              style=\"display:none;\">\n",
              "        \n",
              "  <svg xmlns=\"http://www.w3.org/2000/svg\" height=\"24px\"viewBox=\"0 0 24 24\"\n",
              "       width=\"24px\">\n",
              "    <path d=\"M0 0h24v24H0V0z\" fill=\"none\"/>\n",
              "    <path d=\"M18.56 5.44l.94 2.06.94-2.06 2.06-.94-2.06-.94-.94-2.06-.94 2.06-2.06.94zm-11 1L8.5 8.5l.94-2.06 2.06-.94-2.06-.94L8.5 2.5l-.94 2.06-2.06.94zm10 10l.94 2.06.94-2.06 2.06-.94-2.06-.94-.94-2.06-.94 2.06-2.06.94z\"/><path d=\"M17.41 7.96l-1.37-1.37c-.4-.4-.92-.59-1.43-.59-.52 0-1.04.2-1.43.59L10.3 9.45l-7.72 7.72c-.78.78-.78 2.05 0 2.83L4 21.41c.39.39.9.59 1.41.59.51 0 1.02-.2 1.41-.59l7.78-7.78 2.81-2.81c.8-.78.8-2.07 0-2.86zM5.41 20L4 18.59l7.72-7.72 1.47 1.35L5.41 20z\"/>\n",
              "  </svg>\n",
              "      </button>\n",
              "      \n",
              "  <style>\n",
              "    .colab-df-container {\n",
              "      display:flex;\n",
              "      flex-wrap:wrap;\n",
              "      gap: 12px;\n",
              "    }\n",
              "\n",
              "    .colab-df-convert {\n",
              "      background-color: #E8F0FE;\n",
              "      border: none;\n",
              "      border-radius: 50%;\n",
              "      cursor: pointer;\n",
              "      display: none;\n",
              "      fill: #1967D2;\n",
              "      height: 32px;\n",
              "      padding: 0 0 0 0;\n",
              "      width: 32px;\n",
              "    }\n",
              "\n",
              "    .colab-df-convert:hover {\n",
              "      background-color: #E2EBFA;\n",
              "      box-shadow: 0px 1px 2px rgba(60, 64, 67, 0.3), 0px 1px 3px 1px rgba(60, 64, 67, 0.15);\n",
              "      fill: #174EA6;\n",
              "    }\n",
              "\n",
              "    [theme=dark] .colab-df-convert {\n",
              "      background-color: #3B4455;\n",
              "      fill: #D2E3FC;\n",
              "    }\n",
              "\n",
              "    [theme=dark] .colab-df-convert:hover {\n",
              "      background-color: #434B5C;\n",
              "      box-shadow: 0px 1px 3px 1px rgba(0, 0, 0, 0.15);\n",
              "      filter: drop-shadow(0px 1px 2px rgba(0, 0, 0, 0.3));\n",
              "      fill: #FFFFFF;\n",
              "    }\n",
              "  </style>\n",
              "\n",
              "      <script>\n",
              "        const buttonEl =\n",
              "          document.querySelector('#df-d6b22737-ee96-4072-9058-df6b592bec53 button.colab-df-convert');\n",
              "        buttonEl.style.display =\n",
              "          google.colab.kernel.accessAllowed ? 'block' : 'none';\n",
              "\n",
              "        async function convertToInteractive(key) {\n",
              "          const element = document.querySelector('#df-d6b22737-ee96-4072-9058-df6b592bec53');\n",
              "          const dataTable =\n",
              "            await google.colab.kernel.invokeFunction('convertToInteractive',\n",
              "                                                     [key], {});\n",
              "          if (!dataTable) return;\n",
              "\n",
              "          const docLinkHtml = 'Like what you see? Visit the ' +\n",
              "            '<a target=\"_blank\" href=https://colab.research.google.com/notebooks/data_table.ipynb>data table notebook</a>'\n",
              "            + ' to learn more about interactive tables.';\n",
              "          element.innerHTML = '';\n",
              "          dataTable['output_type'] = 'display_data';\n",
              "          await google.colab.output.renderOutput(dataTable, element);\n",
              "          const docLink = document.createElement('div');\n",
              "          docLink.innerHTML = docLinkHtml;\n",
              "          element.appendChild(docLink);\n",
              "        }\n",
              "      </script>\n",
              "    </div>\n",
              "  </div>\n",
              "  "
            ]
          },
          "metadata": {},
          "execution_count": 55
        }
      ]
    },
    {
      "cell_type": "code",
      "source": [
        "#Let's plot the coefficients for the new model\n",
        "featureNames2 = ['blueFirstBlood', 'wardsPlacedDiff', 'wardsDestroyedDiff', 'killsDiff', 'assistsDiff', 'dragonDiff', 'heraldDiff', 'towersDestroyedDiff', 'totalMinionsKilledDiff', 'totalJungleMinionsKilledDiff']\n",
        "\n",
        "coefs2 = np.array(LR2.coef_).tolist()\n",
        "Coefficients2 = np.squeeze(coefs2)\n",
        "\n",
        "plt.barh(featureNames2, Coefficients2)\n",
        "plt.title('Feature coefficients', fontsize=10)"
      ],
      "metadata": {
        "colab": {
          "base_uri": "https://localhost:8080/",
          "height": 297
        },
        "id": "QdMwO_o56n70",
        "outputId": "b7baa5e2-64b9-4c7a-9bc3-cf423e5f2fca"
      },
      "execution_count": null,
      "outputs": [
        {
          "output_type": "execute_result",
          "data": {
            "text/plain": [
              "Text(0.5, 1.0, 'Feature coefficients')"
            ]
          },
          "metadata": {},
          "execution_count": 56
        },
        {
          "output_type": "display_data",
          "data": {
            "text/plain": [
              "<Figure size 432x288 with 1 Axes>"
            ],
            "image/png": "[encoded data removed]"
          },
          "metadata": {
            "needs_background": "light"
          }
        }
      ]
    },
    {
      "cell_type": "code",
      "source": [
        "#Statsmodel comparaison \n",
        "import statsmodels.api as sm\n",
        "import statsmodels.formula.api as smf\n",
        "\n",
        "X_features = sm.add_constant(Xfeatures)\n",
        "\n",
        "smLRfeatures = sm.Logit(yfeatures, X_features).fit(method=\"ncg\")\n",
        "\n",
        "smLRfeatures.summary()"
      ],
      "metadata": {
        "colab": {
          "base_uri": "https://localhost:8080/",
          "height": 535
        },
        "id": "lByMr9rK9kNo",
        "outputId": "88a6e6a0-a043-41f3-8b13-154a553b3b12"
      },
      "execution_count": null,
      "outputs": [
        {
          "output_type": "stream",
          "name": "stdout",
          "text": [
            "Optimization terminated successfully.\n",
            "         Current function value: 0.544368\n",
            "         Iterations: 7\n",
            "         Function evaluations: 8\n",
            "         Gradient evaluations: 14\n",
            "         Hessian evaluations: 7\n"
          ]
        },
        {
          "output_type": "execute_result",
          "data": {
            "text/plain": [
              "<class 'statsmodels.iolib.summary.Summary'>\n",
              "\"\"\"\n",
              "                           Logit Regression Results                           \n",
              "==============================================================================\n",
              "Dep. Variable:               blueWins   No. Observations:                 9455\n",
              "Model:                          Logit   Df Residuals:                     9444\n",
              "Method:                           MLE   Df Model:                           10\n",
              "Date:                Mon, 04 Apr 2022   Pseudo R-squ.:                  0.2146\n",
              "Time:                        19:39:14   Log-Likelihood:                -5147.0\n",
              "converged:                       True   LL-Null:                       -6553.6\n",
              "Covariance Type:            nonrobust   LLR p-value:                     0.000\n",
              "==============================================================================\n",
              "                 coef    std err          z      P>|z|      [0.025      0.975]\n",
              "------------------------------------------------------------------------------\n",
              "const         -0.0014      0.025     -0.053      0.957      -0.051       0.049\n",
              "x1             0.0423      0.025      1.684      0.092      -0.007       0.092\n",
              "x2             0.0979      0.107      0.915      0.360      -0.112       0.308\n",
              "x3             0.1175      0.198      0.593      0.553      -0.271       0.506\n",
              "x4             3.1792      0.164     19.391      0.000       2.858       3.501\n",
              "x5             0.0760      0.174      0.437      0.662      -0.265       0.416\n",
              "x6             0.2523      0.028      8.941      0.000       0.197       0.308\n",
              "x7             0.0962      0.042      2.263      0.024       0.013       0.179\n",
              "x8             0.2896      0.102      2.830      0.005       0.089       0.490\n",
              "x9             1.3051      0.108     12.054      0.000       1.093       1.517\n",
              "x10            1.2280      0.114     10.732      0.000       1.004       1.452\n",
              "==============================================================================\n",
              "\"\"\""
            ],
            "text/html": [
              "<table class=\"simpletable\">\n",
              "<caption>Logit Regression Results</caption>\n",
              "<tr>\n",
              "  <th>Dep. Variable:</th>       <td>blueWins</td>     <th>  No. Observations:  </th>  <td>  9455</td> \n",
              "</tr>\n",
              "<tr>\n",
              "  <th>Model:</th>                 <td>Logit</td>      <th>  Df Residuals:      </th>  <td>  9444</td> \n",
              "</tr>\n",
              "<tr>\n",
              "  <th>Method:</th>                 <td>MLE</td>       <th>  Df Model:          </th>  <td>    10</td> \n",
              "</tr>\n",
              "<tr>\n",
              "  <th>Date:</th>            <td>Mon, 04 Apr 2022</td> <th>  Pseudo R-squ.:     </th>  <td>0.2146</td> \n",
              "</tr>\n",
              "<tr>\n",
              "  <th>Time:</th>                <td>19:39:14</td>     <th>  Log-Likelihood:    </th> <td> -5147.0</td>\n",
              "</tr>\n",
              "<tr>\n",
              "  <th>converged:</th>             <td>True</td>       <th>  LL-Null:           </th> <td> -6553.6</td>\n",
              "</tr>\n",
              "<tr>\n",
              "  <th>Covariance Type:</th>     <td>nonrobust</td>    <th>  LLR p-value:       </th>  <td> 0.000</td> \n",
              "</tr>\n",
              "</table>\n",
              "<table class=\"simpletable\">\n",
              "<tr>\n",
              "    <td></td>       <th>coef</th>     <th>std err</th>      <th>z</th>      <th>P>|z|</th>  <th>[0.025</th>    <th>0.975]</th>  \n",
              "</tr>\n",
              "<tr>\n",
              "  <th>const</th> <td>   -0.0014</td> <td>    0.025</td> <td>   -0.053</td> <td> 0.957</td> <td>   -0.051</td> <td>    0.049</td>\n",
              "</tr>\n",
              "<tr>\n",
              "  <th>x1</th>    <td>    0.0423</td> <td>    0.025</td> <td>    1.684</td> <td> 0.092</td> <td>   -0.007</td> <td>    0.092</td>\n",
              "</tr>\n",
              "<tr>\n",
              "  <th>x2</th>    <td>    0.0979</td> <td>    0.107</td> <td>    0.915</td> <td> 0.360</td> <td>   -0.112</td> <td>    0.308</td>\n",
              "</tr>\n",
              "<tr>\n",
              "  <th>x3</th>    <td>    0.1175</td> <td>    0.198</td> <td>    0.593</td> <td> 0.553</td> <td>   -0.271</td> <td>    0.506</td>\n",
              "</tr>\n",
              "<tr>\n",
              "  <th>x4</th>    <td>    3.1792</td> <td>    0.164</td> <td>   19.391</td> <td> 0.000</td> <td>    2.858</td> <td>    3.501</td>\n",
              "</tr>\n",
              "<tr>\n",
              "  <th>x5</th>    <td>    0.0760</td> <td>    0.174</td> <td>    0.437</td> <td> 0.662</td> <td>   -0.265</td> <td>    0.416</td>\n",
              "</tr>\n",
              "<tr>\n",
              "  <th>x6</th>    <td>    0.2523</td> <td>    0.028</td> <td>    8.941</td> <td> 0.000</td> <td>    0.197</td> <td>    0.308</td>\n",
              "</tr>\n",
              "<tr>\n",
              "  <th>x7</th>    <td>    0.0962</td> <td>    0.042</td> <td>    2.263</td> <td> 0.024</td> <td>    0.013</td> <td>    0.179</td>\n",
              "</tr>\n",
              "<tr>\n",
              "  <th>x8</th>    <td>    0.2896</td> <td>    0.102</td> <td>    2.830</td> <td> 0.005</td> <td>    0.089</td> <td>    0.490</td>\n",
              "</tr>\n",
              "<tr>\n",
              "  <th>x9</th>    <td>    1.3051</td> <td>    0.108</td> <td>   12.054</td> <td> 0.000</td> <td>    1.093</td> <td>    1.517</td>\n",
              "</tr>\n",
              "<tr>\n",
              "  <th>x10</th>   <td>    1.2280</td> <td>    0.114</td> <td>   10.732</td> <td> 0.000</td> <td>    1.004</td> <td>    1.452</td>\n",
              "</tr>\n",
              "</table>"
            ]
          },
          "metadata": {},
          "execution_count": 57
        }
      ]
    },
    {
      "cell_type": "code",
      "source": [
        "#Additionally, let's figure out feature importance for the Random Forest model \n",
        "RF2 = RandomForestClassifier(random_state = 0, n_estimators = 100)\n",
        "RF2.fit(Xfeatures, yfeatures)\n",
        "\n",
        "plt.barh(featureNames2, RF2.feature_importances_)\n",
        "plt.title('Feature importance', fontsize=10)"
      ],
      "metadata": {
        "id": "L0Gi-z5WLHib",
        "colab": {
          "base_uri": "https://localhost:8080/",
          "height": 297
        },
        "outputId": "dde25094-175e-4b97-8fe1-d23dffd83d06"
      },
      "execution_count": null,
      "outputs": [
        {
          "output_type": "execute_result",
          "data": {
            "text/plain": [
              "Text(0.5, 1.0, 'Feature importance')"
            ]
          },
          "metadata": {},
          "execution_count": 58
        },
        {
          "output_type": "display_data",
          "data": {
            "text/plain": [
              "<Figure size 432x288 with 1 Axes>"
            ],
            "image/png": "[encoded data removed]"
          },
          "metadata": {
            "needs_background": "light"
          }
        }
      ]
    },
    {
      "cell_type": "code",
      "source": [
        "RFfeatures = cross_validate(RF2, Xfeatures, yfeatures, cv=3, scoring = scores)\n",
        "MeansRFfeatures = [np.mean(RFfeatures['test_accuracy']), np.mean(RFfeatures['test_precision']), np.mean(RFfeatures['test_recall']), np.mean(RFfeatures['test_f1'])]\n",
        "\n",
        "import pandas as pd\n",
        "tablefeatures2 = pd.DataFrame(data = list(zip(MeansRFfeatures)),\n",
        "                  index = index, \n",
        "                  columns = ['RandomForest without gold and experience attributes'])\n",
        "tablefeatures2.columns.name = 'k = 3 folds'\n",
        "tablefeatures2"
      ],
      "metadata": {
        "id": "wrXZBMbw_PV5",
        "colab": {
          "base_uri": "https://localhost:8080/",
          "height": 174
        },
        "outputId": "11da3da4-07f8-4b1f-b03d-9aa0c87098ae"
      },
      "execution_count": null,
      "outputs": [
        {
          "output_type": "execute_result",
          "data": {
            "text/plain": [
              "k = 3 folds      RandomForest without gold and experience attributes\n",
              "Accuracy Score                                            0.705024  \n",
              "Precision Score                                           0.707945  \n",
              "Recall Score                                              0.693309  \n",
              "F1-Score                                                  0.700467  "
            ],
            "text/html": [
              "\n",
              "  <div id=\"df-95dc69d2-635c-4f67-acb3-aec2249983cb\">\n",
              "    <div class=\"colab-df-container\">\n",
              "      <div>\n",
              "<style scoped>\n",
              "    .dataframe tbody tr th:only-of-type {\n",
              "        vertical-align: middle;\n",
              "    }\n",
              "\n",
              "    .dataframe tbody tr th {\n",
              "        vertical-align: top;\n",
              "    }\n",
              "\n",
              "    .dataframe thead th {\n",
              "        text-align: right;\n",
              "    }\n",
              "</style>\n",
              "<table border=\"1\" class=\"dataframe\">\n",
              "  <thead>\n",
              "    <tr style=\"text-align: right;\">\n",
              "      <th>k = 3 folds</th>\n",
              "      <th>RandomForest without gold and experience attributes</th>\n",
              "    </tr>\n",
              "  </thead>\n",
              "  <tbody>\n",
              "    <tr>\n",
              "      <th>Accuracy Score</th>\n",
              "      <td>0.705024</td>\n",
              "    </tr>\n",
              "    <tr>\n",
              "      <th>Precision Score</th>\n",
              "      <td>0.707945</td>\n",
              "    </tr>\n",
              "    <tr>\n",
              "      <th>Recall Score</th>\n",
              "      <td>0.693309</td>\n",
              "    </tr>\n",
              "    <tr>\n",
              "      <th>F1-Score</th>\n",
              "      <td>0.700467</td>\n",
              "    </tr>\n",
              "  </tbody>\n",
              "</table>\n",
              "</div>\n",
              "      <button class=\"colab-df-convert\" onclick=\"convertToInteractive('df-95dc69d2-635c-4f67-acb3-aec2249983cb')\"\n",
              "              title=\"Convert this dataframe to an interactive table.\"\n",
              "              style=\"display:none;\">\n",
              "        \n",
              "  <svg xmlns=\"http://www.w3.org/2000/svg\" height=\"24px\"viewBox=\"0 0 24 24\"\n",
              "       width=\"24px\">\n",
              "    <path d=\"M0 0h24v24H0V0z\" fill=\"none\"/>\n",
              "    <path d=\"M18.56 5.44l.94 2.06.94-2.06 2.06-.94-2.06-.94-.94-2.06-.94 2.06-2.06.94zm-11 1L8.5 8.5l.94-2.06 2.06-.94-2.06-.94L8.5 2.5l-.94 2.06-2.06.94zm10 10l.94 2.06.94-2.06 2.06-.94-2.06-.94-.94-2.06-.94 2.06-2.06.94z\"/><path d=\"M17.41 7.96l-1.37-1.37c-.4-.4-.92-.59-1.43-.59-.52 0-1.04.2-1.43.59L10.3 9.45l-7.72 7.72c-.78.78-.78 2.05 0 2.83L4 21.41c.39.39.9.59 1.41.59.51 0 1.02-.2 1.41-.59l7.78-7.78 2.81-2.81c.8-.78.8-2.07 0-2.86zM5.41 20L4 18.59l7.72-7.72 1.47 1.35L5.41 20z\"/>\n",
              "  </svg>\n",
              "      </button>\n",
              "      \n",
              "  <style>\n",
              "    .colab-df-container {\n",
              "      display:flex;\n",
              "      flex-wrap:wrap;\n",
              "      gap: 12px;\n",
              "    }\n",
              "\n",
              "    .colab-df-convert {\n",
              "      background-color: #E8F0FE;\n",
              "      border: none;\n",
              "      border-radius: 50%;\n",
              "      cursor: pointer;\n",
              "      display: none;\n",
              "      fill: #1967D2;\n",
              "      height: 32px;\n",
              "      padding: 0 0 0 0;\n",
              "      width: 32px;\n",
              "    }\n",
              "\n",
              "    .colab-df-convert:hover {\n",
              "      background-color: #E2EBFA;\n",
              "      box-shadow: 0px 1px 2px rgba(60, 64, 67, 0.3), 0px 1px 3px 1px rgba(60, 64, 67, 0.15);\n",
              "      fill: #174EA6;\n",
              "    }\n",
              "\n",
              "    [theme=dark] .colab-df-convert {\n",
              "      background-color: #3B4455;\n",
              "      fill: #D2E3FC;\n",
              "    }\n",
              "\n",
              "    [theme=dark] .colab-df-convert:hover {\n",
              "      background-color: #434B5C;\n",
              "      box-shadow: 0px 1px 3px 1px rgba(0, 0, 0, 0.15);\n",
              "      filter: drop-shadow(0px 1px 2px rgba(0, 0, 0, 0.3));\n",
              "      fill: #FFFFFF;\n",
              "    }\n",
              "  </style>\n",
              "\n",
              "      <script>\n",
              "        const buttonEl =\n",
              "          document.querySelector('#df-95dc69d2-635c-4f67-acb3-aec2249983cb button.colab-df-convert');\n",
              "        buttonEl.style.display =\n",
              "          google.colab.kernel.accessAllowed ? 'block' : 'none';\n",
              "\n",
              "        async function convertToInteractive(key) {\n",
              "          const element = document.querySelector('#df-95dc69d2-635c-4f67-acb3-aec2249983cb');\n",
              "          const dataTable =\n",
              "            await google.colab.kernel.invokeFunction('convertToInteractive',\n",
              "                                                     [key], {});\n",
              "          if (!dataTable) return;\n",
              "\n",
              "          const docLinkHtml = 'Like what you see? Visit the ' +\n",
              "            '<a target=\"_blank\" href=https://colab.research.google.com/notebooks/data_table.ipynb>data table notebook</a>'\n",
              "            + ' to learn more about interactive tables.';\n",
              "          element.innerHTML = '';\n",
              "          dataTable['output_type'] = 'display_data';\n",
              "          await google.colab.output.renderOutput(dataTable, element);\n",
              "          const docLink = document.createElement('div');\n",
              "          docLink.innerHTML = docLinkHtml;\n",
              "          element.appendChild(docLink);\n",
              "        }\n",
              "      </script>\n",
              "    </div>\n",
              "  </div>\n",
              "  "
            ]
          },
          "metadata": {},
          "execution_count": 68
        }
      ]
    },
    {
      "cell_type": "code",
      "source": [
        ""
      ],
      "metadata": {
        "id": "I1lXgiIN_PYQ"
      },
      "execution_count": null,
      "outputs": []
    },
    {
      "cell_type": "code",
      "source": [
        ""
      ],
      "metadata": {
        "id": "Nd6RIQMl9kSo"
      },
      "execution_count": null,
      "outputs": []
    },
    {
      "cell_type": "code",
      "source": [
        ""
      ],
      "metadata": {
        "id": "sb1sl2UK9kVD"
      },
      "execution_count": null,
      "outputs": []
    },
    {
      "cell_type": "code",
      "source": [
        "#Additional stuff\n",
        "#Let's compute the scoring metrics if we remove half the wins and if we remove half the losses"
      ],
      "metadata": {
        "id": "koqvv3yaz-3n"
      },
      "execution_count": null,
      "outputs": []
    },
    {
      "cell_type": "code",
      "source": [
        "#Remove half the wins\n",
        "df_halfWins = df_clean\n",
        "df_halfWins = df_halfWins.drop(df_halfWins[df_halfWins['blueWins'] == 1].sample(frac=.5).index)\n",
        "\n",
        "ax = sns.countplot(x = df_halfWins.blueWins, label='Count', palette='RdBu')\n",
        "Wins2 = df_halfWins.query('blueWins == 1').shape[0]\n",
        "Losses2 = df_halfWins.query('blueWins == 0').shape[0]\n",
        "\n",
        "print('Red Wins: {} ({}%), Blue Wins: {}({}%)'.format(Losses2,round(100*Losses2/(Wins2+Losses2),3),Wins2,round(100*Wins2/(Wins2+Losses2),3)))"
      ],
      "metadata": {
        "id": "k69r40Q_rzpM",
        "colab": {
          "base_uri": "https://localhost:8080/",
          "height": 297
        },
        "outputId": "9620dccb-146f-4ead-85f2-3bb294060dec"
      },
      "execution_count": null,
      "outputs": [
        {
          "output_type": "stream",
          "name": "stdout",
          "text": [
            "Red Wins: 4750 (66.873%), Blue Wins: 2353(33.127%)\n"
          ]
        },
        {
          "output_type": "display_data",
          "data": {
            "text/plain": [
              "<Figure size 432x288 with 1 Axes>"
            ],
            "image/png": "[encoded data removed]"
          },
          "metadata": {
            "needs_background": "light"
          }
        }
      ]
    },
    {
      "cell_type": "code",
      "source": [
        "from sklearn.preprocessing import MinMaxScaler\n",
        "\n",
        "X2 = df_halfWins.drop(['blueWins'],axis=1)\n",
        "y2 = df_halfWins['blueWins']\n",
        "scaler = MinMaxScaler(feature_range=(-1,1))\n",
        "scaler.fit(X2)\n",
        "X2 = scaler.transform(X2)\n",
        "\n",
        "LRHalfWinsResults = cross_validate(LR, X2, y2, cv=3, scoring = scores)\n",
        "MeansLRHalfWins = [np.mean(LRHalfWinsResults['test_accuracy']), np.mean(LRHalfWinsResults['test_precision']), np.mean(LRHalfWinsResults['test_recall']), np.mean(LRHalfWinsResults['test_f1'])]\n",
        "\n"
      ],
      "metadata": {
        "id": "DA2P2wSlzN-X"
      },
      "execution_count": null,
      "outputs": []
    },
    {
      "cell_type": "code",
      "source": [
        "#Remove half the losses\n",
        "df_halfLosses = df_clean\n",
        "df_halfLosses = df_halfLosses.drop(df_halfLosses[df_halfLosses['blueWins'] == 0].sample(frac=.5).index)\n",
        "\n",
        "ax = sns.countplot(x = df_halfLosses.blueWins, label='Count', palette='RdBu')\n",
        "Wins3 = df_halfLosses.query('blueWins == 1').shape[0]\n",
        "Losses3 = df_halfLosses.query('blueWins == 0').shape[0]\n",
        "\n",
        "print('Red Wins: {} ({}%), Blue Wins: {}({}%)'.format(Losses3,round(100*Losses3/(Wins3+Losses3),3),Wins3,round(100*Wins3/(Wins3+Losses3),3)))"
      ],
      "metadata": {
        "id": "1NZ-lStJqTh5",
        "colab": {
          "base_uri": "https://localhost:8080/",
          "height": 297
        },
        "outputId": "4d16bc64-ae22-452b-a057-c8096f383a28"
      },
      "execution_count": null,
      "outputs": [
        {
          "output_type": "stream",
          "name": "stdout",
          "text": [
            "Red Wins: 2375 (33.545%), Blue Wins: 4705(66.455%)\n"
          ]
        },
        {
          "output_type": "display_data",
          "data": {
            "text/plain": [
              "<Figure size 432x288 with 1 Axes>"
            ],
            "image/png": "[encoded data removed]"
          },
          "metadata": {
            "needs_background": "light"
          }
        }
      ]
    },
    {
      "cell_type": "code",
      "source": [
        "from sklearn.preprocessing import MinMaxScaler\n",
        "\n",
        "X3 = df_halfLosses.drop(['blueWins'],axis=1)\n",
        "y3 = df_halfLosses['blueWins']\n",
        "scaler = MinMaxScaler(feature_range=(-1,1))\n",
        "scaler.fit(X3)\n",
        "X3 = scaler.transform(X3)\n",
        "\n",
        "LRHalfLossesResults = cross_validate(LR, X3, y3, cv=3, scoring = scores)\n",
        "MeansLRHalfLosses = [np.mean(LRHalfLossesResults['test_accuracy']), np.mean(LRHalfLossesResults['test_precision']), np.mean(LRHalfLossesResults['test_recall']), np.mean(LRHalfLossesResults['test_f1'])]"
      ],
      "metadata": {
        "id": "wAj6tyC6yVyG"
      },
      "execution_count": null,
      "outputs": []
    },
    {
      "cell_type": "code",
      "source": [
        "#Plot the results\n",
        "tableHalfLosses = pd.DataFrame(data = list(zip(MeansLRHalfLosses, MeansLR3, MeansLRHalfWins)),\n",
        "                  index = index, \n",
        "                  columns = ['50% Losses removed', 'Balanced', '50% Wins removed'])\n",
        "tableHalfLosses.columns.name = 'LR performance'\n",
        "tableHalfLosses"
      ],
      "metadata": {
        "id": "7wKgd_rL3eci",
        "colab": {
          "base_uri": "https://localhost:8080/",
          "height": 174
        },
        "outputId": "9c40b6d9-0e31-4d5f-b6d1-8b0cbc0d4ddc"
      },
      "execution_count": null,
      "outputs": [
        {
          "output_type": "execute_result",
          "data": {
            "text/plain": [
              "LR performance   50% Losses removed  Balanced  50% Wins removed\n",
              "Accuracy Score             0.757910  0.729562          0.759258\n",
              "Precision Score            0.783050  0.728114          0.685548\n",
              "Recall Score               0.879275  0.728589          0.504031\n",
              "F1-Score                   0.828362  0.728322          0.580733"
            ],
            "text/html": [
              "\n",
              "  <div id=\"df-0d629b4a-a97b-4692-a3e0-c3f8dab7880c\">\n",
              "    <div class=\"colab-df-container\">\n",
              "      <div>\n",
              "<style scoped>\n",
              "    .dataframe tbody tr th:only-of-type {\n",
              "        vertical-align: middle;\n",
              "    }\n",
              "\n",
              "    .dataframe tbody tr th {\n",
              "        vertical-align: top;\n",
              "    }\n",
              "\n",
              "    .dataframe thead th {\n",
              "        text-align: right;\n",
              "    }\n",
              "</style>\n",
              "<table border=\"1\" class=\"dataframe\">\n",
              "  <thead>\n",
              "    <tr style=\"text-align: right;\">\n",
              "      <th>LR performance</th>\n",
              "      <th>50% Losses removed</th>\n",
              "      <th>Balanced</th>\n",
              "      <th>50% Wins removed</th>\n",
              "    </tr>\n",
              "  </thead>\n",
              "  <tbody>\n",
              "    <tr>\n",
              "      <th>Accuracy Score</th>\n",
              "      <td>0.757910</td>\n",
              "      <td>0.729562</td>\n",
              "      <td>0.759258</td>\n",
              "    </tr>\n",
              "    <tr>\n",
              "      <th>Precision Score</th>\n",
              "      <td>0.783050</td>\n",
              "      <td>0.728114</td>\n",
              "      <td>0.685548</td>\n",
              "    </tr>\n",
              "    <tr>\n",
              "      <th>Recall Score</th>\n",
              "      <td>0.879275</td>\n",
              "      <td>0.728589</td>\n",
              "      <td>0.504031</td>\n",
              "    </tr>\n",
              "    <tr>\n",
              "      <th>F1-Score</th>\n",
              "      <td>0.828362</td>\n",
              "      <td>0.728322</td>\n",
              "      <td>0.580733</td>\n",
              "    </tr>\n",
              "  </tbody>\n",
              "</table>\n",
              "</div>\n",
              "      <button class=\"colab-df-convert\" onclick=\"convertToInteractive('df-0d629b4a-a97b-4692-a3e0-c3f8dab7880c')\"\n",
              "              title=\"Convert this dataframe to an interactive table.\"\n",
              "              style=\"display:none;\">\n",
              "        \n",
              "  <svg xmlns=\"http://www.w3.org/2000/svg\" height=\"24px\"viewBox=\"0 0 24 24\"\n",
              "       width=\"24px\">\n",
              "    <path d=\"M0 0h24v24H0V0z\" fill=\"none\"/>\n",
              "    <path d=\"M18.56 5.44l.94 2.06.94-2.06 2.06-.94-2.06-.94-.94-2.06-.94 2.06-2.06.94zm-11 1L8.5 8.5l.94-2.06 2.06-.94-2.06-.94L8.5 2.5l-.94 2.06-2.06.94zm10 10l.94 2.06.94-2.06 2.06-.94-2.06-.94-.94-2.06-.94 2.06-2.06.94z\"/><path d=\"M17.41 7.96l-1.37-1.37c-.4-.4-.92-.59-1.43-.59-.52 0-1.04.2-1.43.59L10.3 9.45l-7.72 7.72c-.78.78-.78 2.05 0 2.83L4 21.41c.39.39.9.59 1.41.59.51 0 1.02-.2 1.41-.59l7.78-7.78 2.81-2.81c.8-.78.8-2.07 0-2.86zM5.41 20L4 18.59l7.72-7.72 1.47 1.35L5.41 20z\"/>\n",
              "  </svg>\n",
              "      </button>\n",
              "      \n",
              "  <style>\n",
              "    .colab-df-container {\n",
              "      display:flex;\n",
              "      flex-wrap:wrap;\n",
              "      gap: 12px;\n",
              "    }\n",
              "\n",
              "    .colab-df-convert {\n",
              "      background-color: #E8F0FE;\n",
              "      border: none;\n",
              "      border-radius: 50%;\n",
              "      cursor: pointer;\n",
              "      display: none;\n",
              "      fill: #1967D2;\n",
              "      height: 32px;\n",
              "      padding: 0 0 0 0;\n",
              "      width: 32px;\n",
              "    }\n",
              "\n",
              "    .colab-df-convert:hover {\n",
              "      background-color: #E2EBFA;\n",
              "      box-shadow: 0px 1px 2px rgba(60, 64, 67, 0.3), 0px 1px 3px 1px rgba(60, 64, 67, 0.15);\n",
              "      fill: #174EA6;\n",
              "    }\n",
              "\n",
              "    [theme=dark] .colab-df-convert {\n",
              "      background-color: #3B4455;\n",
              "      fill: #D2E3FC;\n",
              "    }\n",
              "\n",
              "    [theme=dark] .colab-df-convert:hover {\n",
              "      background-color: #434B5C;\n",
              "      box-shadow: 0px 1px 3px 1px rgba(0, 0, 0, 0.15);\n",
              "      filter: drop-shadow(0px 1px 2px rgba(0, 0, 0, 0.3));\n",
              "      fill: #FFFFFF;\n",
              "    }\n",
              "  </style>\n",
              "\n",
              "      <script>\n",
              "        const buttonEl =\n",
              "          document.querySelector('#df-0d629b4a-a97b-4692-a3e0-c3f8dab7880c button.colab-df-convert');\n",
              "        buttonEl.style.display =\n",
              "          google.colab.kernel.accessAllowed ? 'block' : 'none';\n",
              "\n",
              "        async function convertToInteractive(key) {\n",
              "          const element = document.querySelector('#df-0d629b4a-a97b-4692-a3e0-c3f8dab7880c');\n",
              "          const dataTable =\n",
              "            await google.colab.kernel.invokeFunction('convertToInteractive',\n",
              "                                                     [key], {});\n",
              "          if (!dataTable) return;\n",
              "\n",
              "          const docLinkHtml = 'Like what you see? Visit the ' +\n",
              "            '<a target=\"_blank\" href=https://colab.research.google.com/notebooks/data_table.ipynb>data table notebook</a>'\n",
              "            + ' to learn more about interactive tables.';\n",
              "          element.innerHTML = '';\n",
              "          dataTable['output_type'] = 'display_data';\n",
              "          await google.colab.output.renderOutput(dataTable, element);\n",
              "          const docLink = document.createElement('div');\n",
              "          docLink.innerHTML = docLinkHtml;\n",
              "          element.appendChild(docLink);\n",
              "        }\n",
              "      </script>\n",
              "    </div>\n",
              "  </div>\n",
              "  "
            ]
          },
          "metadata": {},
          "execution_count": 64
        }
      ]
    }
  ]
}